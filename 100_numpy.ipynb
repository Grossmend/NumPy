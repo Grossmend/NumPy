{
 "cells": [
  {
   "cell_type": "code",
   "execution_count": 1,
   "metadata": {},
   "outputs": [],
   "source": [
    "# 1. Импортировать NumPy\n",
    "import numpy as np"
   ]
  },
  {
   "cell_type": "code",
   "execution_count": 2,
   "metadata": {},
   "outputs": [
    {
     "name": "stdout",
     "output_type": "stream",
     "text": [
      "1.14.2\n"
     ]
    }
   ],
   "source": [
    "# 2. Напечатать версию и конфигурацию\n",
    "print(np.__version__)"
   ]
  },
  {
   "cell_type": "code",
   "execution_count": 3,
   "metadata": {},
   "outputs": [
    {
     "data": {
      "text/plain": [
       "array([0., 0., 0., 0., 0., 0., 0., 0., 0., 0.])"
      ]
     },
     "execution_count": 3,
     "metadata": {},
     "output_type": "execute_result"
    }
   ],
   "source": [
    "# 3. Создать вектор (одномерный массив) размера 10, заполненый нулями\n",
    "np.zeros([10])"
   ]
  },
  {
   "cell_type": "code",
   "execution_count": 4,
   "metadata": {},
   "outputs": [
    {
     "data": {
      "text/plain": [
       "array([1., 1., 1., 1., 1., 1., 1., 1., 1., 1.])"
      ]
     },
     "execution_count": 4,
     "metadata": {},
     "output_type": "execute_result"
    }
   ],
   "source": [
    "# 4. Создать вектор размер 10, заполненный единицами\n",
    "np.ones([10])"
   ]
  },
  {
   "cell_type": "code",
   "execution_count": 5,
   "metadata": {},
   "outputs": [
    {
     "data": {
      "text/plain": [
       "array([2.5, 2.5, 2.5, 2.5, 2.5, 2.5, 2.5, 2.5, 2.5, 2.5])"
      ]
     },
     "execution_count": 5,
     "metadata": {},
     "output_type": "execute_result"
    }
   ],
   "source": [
    "# 5. Создать вектор размера 10, заполненный числом 2.5\n",
    "np.full([10], 2.5)"
   ]
  },
  {
   "cell_type": "code",
   "execution_count": 6,
   "metadata": {},
   "outputs": [
    {
     "name": "stderr",
     "output_type": "stream",
     "text": [
      "ERROR:root:File `'`python.py'` not found.\n"
     ]
    }
   ],
   "source": [
    "# 6. Получить документацию о функции numpy.add из командной строки\n",
    "%run `python -c \"import numpy; numpy.info(numpy.add)\"`"
   ]
  },
  {
   "cell_type": "code",
   "execution_count": 7,
   "metadata": {},
   "outputs": [
    {
     "data": {
      "text/plain": [
       "array([0., 0., 0., 0., 1., 0., 0., 0., 0., 0.])"
      ]
     },
     "execution_count": 7,
     "metadata": {},
     "output_type": "execute_result"
    }
   ],
   "source": [
    "# 7. Создать вектор заполненный нулями, но пятый элемент равен 1\n",
    "v = np.zeros([10])\n",
    "v[4] = 1\n",
    "v"
   ]
  },
  {
   "cell_type": "code",
   "execution_count": 8,
   "metadata": {},
   "outputs": [
    {
     "data": {
      "text/plain": [
       "array([10, 11, 12, 13, 14, 15, 16, 17, 18, 19, 20, 21, 22, 23, 24, 25, 26,\n",
       "       27, 28, 29, 30, 31, 32, 33, 34, 35, 36, 37, 38, 39, 40, 41, 42, 43,\n",
       "       44, 45, 46, 47, 48, 49])"
      ]
     },
     "execution_count": 8,
     "metadata": {},
     "output_type": "execute_result"
    }
   ],
   "source": [
    "# 8. Создать вектор со значениями от 10 до 49\n",
    "v = np.arange(start=10,stop=50)\n",
    "v"
   ]
  },
  {
   "cell_type": "code",
   "execution_count": 6,
   "metadata": {},
   "outputs": [
    {
     "data": {
      "text/plain": [
       "array([10,  9,  8,  7,  6,  5,  4,  3,  2,  1])"
      ]
     },
     "execution_count": 6,
     "metadata": {},
     "output_type": "execute_result"
    }
   ],
   "source": [
    "# 9. Развернуть вектор (первый становится последним)\n",
    "v = np.arange(start=1, stop=11)\n",
    "v = v[::-1]\n",
    "v"
   ]
  },
  {
   "cell_type": "code",
   "execution_count": 10,
   "metadata": {},
   "outputs": [
    {
     "data": {
      "text/plain": [
       "array([[0, 1, 2],\n",
       "       [3, 4, 5],\n",
       "       [6, 7, 8]])"
      ]
     },
     "execution_count": 10,
     "metadata": {},
     "output_type": "execute_result"
    }
   ],
   "source": [
    "# 10. Создать матрицу (двумерный массив) 3x3 со значениями от 0 до 8\n",
    "m = np.arange(0,9).reshape(3,3)\n",
    "np.reshape\n",
    "m"
   ]
  },
  {
   "cell_type": "code",
   "execution_count": 9,
   "metadata": {},
   "outputs": [
    {
     "name": "stdout",
     "output_type": "stream",
     "text": [
      "(array([0, 1, 4], dtype=int32),)\n"
     ]
    }
   ],
   "source": [
    "# 11. Найти индексы ненулевых элементов в [1,2,0,0,4,0]\n",
    "\n",
    "# -----------вариант 1.-----------\n",
    "np.nonzero([1,2,0,0,4,0])\n",
    "\n",
    "# -----------вариант 2.-----------\n",
    "v = np.array([1,2,0,0,4,0])\n",
    "print(np.where(v != 0))"
   ]
  },
  {
   "cell_type": "code",
   "execution_count": 12,
   "metadata": {},
   "outputs": [
    {
     "data": {
      "text/plain": [
       "array([[1., 0., 0.],\n",
       "       [0., 1., 0.],\n",
       "       [0., 0., 1.]])"
      ]
     },
     "execution_count": 12,
     "metadata": {},
     "output_type": "execute_result"
    }
   ],
   "source": [
    "# 12. Создать единичную матрицу 3x3\n",
    "np.eye(3)"
   ]
  },
  {
   "cell_type": "code",
   "execution_count": 13,
   "metadata": {},
   "outputs": [
    {
     "data": {
      "text/plain": [
       "array([[[0.32291579, 0.1255343 , 0.45234206],\n",
       "        [0.64773031, 0.70784262, 0.11189862],\n",
       "        [0.40829003, 0.3652753 , 0.56822345]],\n",
       "\n",
       "       [[0.6468966 , 0.90611791, 0.40679089],\n",
       "        [0.75234845, 0.91611659, 0.80578544],\n",
       "        [0.13033221, 0.18423419, 0.6321614 ]],\n",
       "\n",
       "       [[0.05615199, 0.73601337, 0.93948249],\n",
       "        [0.20114759, 0.99311374, 0.11286063],\n",
       "        [0.52628624, 0.05564345, 0.06780602]]])"
      ]
     },
     "execution_count": 13,
     "metadata": {},
     "output_type": "execute_result"
    }
   ],
   "source": [
    "# 13. Создать массив 3x3x3 со случайными значениями\n",
    "np.random.random([3,3,3])"
   ]
  },
  {
   "cell_type": "code",
   "execution_count": 14,
   "metadata": {},
   "outputs": [
    {
     "name": "stdout",
     "output_type": "stream",
     "text": [
      "0.019431913387810584 0.9986488697028484\n",
      "\n",
      "0.019431913387810584\n",
      "0.9986488697028484\n"
     ]
    }
   ],
   "source": [
    "# 14. Создать массив 10x10 со случайными значениями, найти минимум и максимум\n",
    "m = np.random.random([10,10])\n",
    "\n",
    "# -----------вариант 1.-----------\n",
    "max_var1, max_var2 = m.min(), m.max()\n",
    "print(max_var1, max_var2)\n",
    "\n",
    "print()\n",
    "\n",
    "# -----------вариант 2.-----------\n",
    "min_var2 = np.min(m)\n",
    "max_var2 = np.max(m)\n",
    "print(min_var2)\n",
    "print(max_var2)"
   ]
  },
  {
   "cell_type": "code",
   "execution_count": 15,
   "metadata": {},
   "outputs": [
    {
     "data": {
      "text/plain": [
       "0.4691686753574416"
      ]
     },
     "execution_count": 15,
     "metadata": {},
     "output_type": "execute_result"
    }
   ],
   "source": [
    "# 15. Создать случайный вектор размера 30 и найти среднее значение всех элементов\n",
    "v = np.random.random([30])\n",
    "v.mean()"
   ]
  },
  {
   "cell_type": "code",
   "execution_count": 16,
   "metadata": {},
   "outputs": [
    {
     "data": {
      "text/plain": [
       "array([[1., 1., 1., 1., 1., 1., 1., 1., 1., 1.],\n",
       "       [1., 0., 0., 0., 0., 0., 0., 0., 0., 1.],\n",
       "       [1., 0., 0., 0., 0., 0., 0., 0., 0., 1.],\n",
       "       [1., 0., 0., 0., 0., 0., 0., 0., 0., 1.],\n",
       "       [1., 0., 0., 0., 0., 0., 0., 0., 0., 1.],\n",
       "       [1., 0., 0., 0., 0., 0., 0., 0., 0., 1.],\n",
       "       [1., 0., 0., 0., 0., 0., 0., 0., 0., 1.],\n",
       "       [1., 0., 0., 0., 0., 0., 0., 0., 0., 1.],\n",
       "       [1., 0., 0., 0., 0., 0., 0., 0., 0., 1.],\n",
       "       [1., 1., 1., 1., 1., 1., 1., 1., 1., 1.]])"
      ]
     },
     "execution_count": 16,
     "metadata": {},
     "output_type": "execute_result"
    }
   ],
   "source": [
    "# 16. Создать матрицу с 0 внутри и 1 на границах\n",
    "\n",
    "# -----------вариант 1.-----------\n",
    "m = np.ones([10,10])\n",
    "m[1:-1, 1:-1] = 0\n",
    "m"
   ]
  },
  {
   "cell_type": "code",
   "execution_count": 17,
   "metadata": {},
   "outputs": [
    {
     "name": "stdout",
     "output_type": "stream",
     "text": [
      "nan\n",
      "False\n",
      "False\n",
      "nan\n",
      "False\n"
     ]
    }
   ],
   "source": [
    "# 17. Выяснить результат следующих выражений\n",
    "print(0 * np.nan)\n",
    "print(np.nan == np.nan)\n",
    "print(np.inf > np.nan)\n",
    "print(np.nan - np.nan)\n",
    "print(0.3 == 3 * 0.1)"
   ]
  },
  {
   "cell_type": "code",
   "execution_count": 10,
   "metadata": {},
   "outputs": [
    {
     "name": "stdout",
     "output_type": "stream",
     "text": [
      "Вариант 1\n",
      "[[0 0 0 0 0]\n",
      " [1 0 0 0 0]\n",
      " [0 2 0 0 0]\n",
      " [0 0 3 0 0]\n",
      " [0 0 0 4 0]]\n",
      "Вариант 2\n",
      "[[ 1  0  3  4  5]\n",
      " [ 0  7  0  9 10]\n",
      " [11  0 13  0 15]\n",
      " [16 17  0 19  0]\n",
      " [21 22 23  0 25]]\n",
      "Вариант 3\n",
      "[[ 1  0  3  4  5]\n",
      " [ 0  7  0  9 10]\n",
      " [11  0 13  0 15]\n",
      " [16 17  0 19  0]\n",
      " [21 22 23  0 25]]\n"
     ]
    }
   ],
   "source": [
    "# 18. Создать 5x5 матрицу с 1,2,3,4 под диагональю\n",
    "\n",
    "# -----------Вариант 1.-----------\n",
    "# Решение в интернете, но я хотел чтобы было добавление с двух сторон k-+1\n",
    "# и была возможность добавления на существующую матрицу\n",
    "\n",
    "m = np.diag(np.arange(1, 5), k=-1)\n",
    "\n",
    "print('Вариант 1')\n",
    "print(m)\n",
    "\n",
    "# -----------Вариант 2.-----------\n",
    "# Тяжелый и неправильный вариант. Созданы 4 лишних переменные.\n",
    "\n",
    "m = np.arange(1, 26).reshape([5,5])\n",
    "\n",
    "# создаем доп. матрицы с нужными диагоналями\n",
    "d1 = np.diag(np.arange(1, m.shape[0]), k=-1)\n",
    "d2 = np.diag(np.arange(1, m.shape[0]), k=1)\n",
    "\n",
    "# получаем индексы, которые удовлетворяют условию\n",
    "ind1 = np.where(d1>0)\n",
    "ind2 = np.where(d2>0)\n",
    "\n",
    "# присвоение значений по индексам\n",
    "m[ind1] = 0\n",
    "m[ind2] = 0\n",
    "\n",
    "print('Вариант 2')\n",
    "print(m)\n",
    "\n",
    "# -----------Вариант 3.-----------\n",
    "# Легкий варинат без создания дополнительной матрицы\n",
    "\n",
    "# определим функцию, которая возвращает индексы в зависимсоти от смещения (k) матрицы (m)\n",
    "\n",
    "def diag_indices_k(m, k):\n",
    "    \n",
    "    \"\"\" функция возвращает индексы диагональных элементов матрицы (m) со смещением (k) \"\"\"\n",
    "    \n",
    "    rows, cols = np.diag_indices_from(m)\n",
    "    if k < 0:\n",
    "        return rows[-k:], cols[:k]\n",
    "    elif k > 0:\n",
    "        return rows[:-k], cols[k:]\n",
    "    else:\n",
    "        return rows, cols\n",
    "\n",
    "# создаем матрицу (m)\n",
    "m = np.arange(1, 26).reshape([5,5])\n",
    "# проставляем со смещением диагональные значения\n",
    "m[diag_indices_k(m, -1)] = 0\n",
    "m[diag_indices_k(m, 1)] = 0\n",
    "print('Вариант 3')\n",
    "print(m)\n"
   ]
  },
  {
   "cell_type": "code",
   "execution_count": 12,
   "metadata": {},
   "outputs": [
    {
     "data": {
      "text/plain": [
       "array([[1., 0., 1., 0., 1., 0., 1., 0.],\n",
       "       [0., 1., 0., 1., 0., 1., 0., 1.],\n",
       "       [1., 0., 1., 0., 1., 0., 1., 0.],\n",
       "       [0., 1., 0., 1., 0., 1., 0., 1.],\n",
       "       [1., 0., 1., 0., 1., 0., 1., 0.],\n",
       "       [0., 1., 0., 1., 0., 1., 0., 1.],\n",
       "       [1., 0., 1., 0., 1., 0., 1., 0.],\n",
       "       [0., 1., 0., 1., 0., 1., 0., 1.]])"
      ]
     },
     "execution_count": 12,
     "metadata": {},
     "output_type": "execute_result"
    }
   ],
   "source": [
    "# 19. Создать матрицу 8x8 и заполнить ее в шахматном порядке\n",
    "m = np.zeros([8,8])\n",
    "m[::2, ::2] = 1\n",
    "m[1::2, 1::2] = 1\n",
    "m"
   ]
  },
  {
   "cell_type": "code",
   "execution_count": 20,
   "metadata": {},
   "outputs": [
    {
     "name": "stdout",
     "output_type": "stream",
     "text": [
      "(1, 5, 4)\n"
     ]
    }
   ],
   "source": [
    "# 20. Дан массив размерности (6,7,8). Каков индекс (x,y,z) сотого элемента?\n",
    "print(np.unravel_index(100, (6,7,8)))"
   ]
  },
  {
   "cell_type": "code",
   "execution_count": 59,
   "metadata": {},
   "outputs": [
    {
     "name": "stdout",
     "output_type": "stream",
     "text": [
      "вариант 1\n",
      "[[1 0 1 0 1 0 1 0]\n",
      " [0 1 0 1 0 1 0 1]\n",
      " [1 0 1 0 1 0 1 0]\n",
      " [0 1 0 1 0 1 0 1]\n",
      " [1 0 1 0 1 0 1 0]\n",
      " [0 1 0 1 0 1 0 1]\n",
      " [1 0 1 0 1 0 1 0]\n",
      " [0 1 0 1 0 1 0 1]]\n",
      "\n",
      "вариант 2\n",
      "[[1 0 1 0 1 0 1 0]\n",
      " [0 1 0 1 0 1 0 1]\n",
      " [1 0 1 0 1 0 1 0]\n",
      " [0 1 0 1 0 1 0 1]\n",
      " [1 0 1 0 1 0 1 0]\n",
      " [0 1 0 1 0 1 0 1]\n",
      " [1 0 1 0 1 0 1 0]\n",
      " [0 1 0 1 0 1 0 1]]\n"
     ]
    }
   ],
   "source": [
    "# 21. Создать матрицу 8x8 и заполнить ее в шахматном порядке, используя функцию tile\n",
    "\n",
    "# -----------Вариант 1.-----------\n",
    "m = np.tile(np.array([[1,0], [0,1]]), [4,4])\n",
    "print('вариант 1')\n",
    "print(m)\n",
    "print()\n",
    "# -----------Вариант 2 (первое что пришло в голову).-----------\n",
    "# тяжелый вариант\n",
    "begin = np.array([0,1])\n",
    "m = np.tile(begin, [8,5])\n",
    "m[::2,0:-1] = m[::2,1:]\n",
    "m = m[:,:-2]\n",
    "print('вариант 2')\n",
    "print(m)"
   ]
  },
  {
   "cell_type": "code",
   "execution_count": 76,
   "metadata": {},
   "outputs": [
    {
     "name": "stdout",
     "output_type": "stream",
     "text": [
      "[[0.4222276  0.67511683]\n",
      " [0.0687243  0.09106668]\n",
      " [0.35918754 0.70697517]\n",
      " [0.85124592 0.43071301]\n",
      " [0.97899294 0.87300153]]\n"
     ]
    }
   ],
   "source": [
    "# 22. Перемножить матрицы 5x3 и 3x2\n",
    "\n",
    "a = np.random.random([5,3])\n",
    "b = np.random.random([3,2])\n",
    "print(np.dot(a,b))\n"
   ]
  },
  {
   "cell_type": "code",
   "execution_count": 171,
   "metadata": {},
   "outputs": [
    {
     "name": "stdout",
     "output_type": "stream",
     "text": [
      "[[73  7 99  4 53 85 19]\n",
      " [17 64 49 43 83 11  9]\n",
      " [56 36 42 19 15 93 26]\n",
      " [96 39 88 60  4 65 48]\n",
      " [59 92 56 42 22 39 39]]\n",
      "\n",
      "[[73  7 99 53 19]\n",
      " [17 64 49 83  9]\n",
      " [56 36 42 15 26]\n",
      " [96 39 88  4 48]\n",
      " [59 92 56 22 39]]\n"
     ]
    }
   ],
   "source": [
    "# 22.1. Создать случайную матрицу 5x7 целых чисел от 1 до 100 и удалить [3,5] колонки\n",
    "m = np.random.randint(low=1, high=100, size=[5,7])\n",
    "print(m)\n",
    "print()\n",
    "d = [3,5]\n",
    "m = np.delete(arr=m, obj=d, axis=1)\n",
    "print(m)"
   ]
  },
  {
   "cell_type": "code",
   "execution_count": 172,
   "metadata": {},
   "outputs": [
    {
     "name": "stdout",
     "output_type": "stream",
     "text": [
      "[[17 -4 -5 15 19]\n",
      " [24  1 11 23 23]\n",
      " [-5 12  1 20 23]\n",
      " [22 -7  8 -5  8]\n",
      " [ 2 -4 22 12 21]]\n",
      "\n",
      "[[22 13  9  2 16]\n",
      " [-5 -7 13 17  3]\n",
      " [-4 10 17  2 12]\n",
      " [-4 23 13 11 18]\n",
      " [ 1 16  8 23 10]]\n"
     ]
    }
   ],
   "source": [
    "# 23. Дан массив, поменять знак у элементов, значения которых между 3 и 8\n",
    "# -----------Вариант 1.-----------\n",
    "m = np.random.randint(low=1, high=25, size=[5,5])\n",
    "m[(m > 3) & (m < 8)] *=-1\n",
    "print(m)\n",
    "print()\n",
    "\n",
    "# -----------Вариант 2.-----------\n",
    "m = np.random.randint(low=1, high=25, size=[5,5])\n",
    "ind = np.where((m > 3) & (m < 8))\n",
    "m[ind] *=-1\n",
    "print(m)"
   ]
  },
  {
   "cell_type": "code",
   "execution_count": 108,
   "metadata": {},
   "outputs": [
    {
     "name": "stdout",
     "output_type": "stream",
     "text": [
      "вариант 1\n",
      "[[0. 1. 2. 3. 4.]\n",
      " [0. 1. 2. 3. 4.]\n",
      " [0. 1. 2. 3. 4.]\n",
      " [0. 1. 2. 3. 4.]\n",
      " [0. 1. 2. 3. 4.]]\n",
      "float64\n",
      "\n",
      "вариант 2\n",
      "[[0. 1. 2. 3. 4.]\n",
      " [0. 1. 2. 3. 4.]\n",
      " [0. 1. 2. 3. 4.]\n",
      " [0. 1. 2. 3. 4.]\n",
      " [0. 1. 2. 3. 4.]]\n",
      "float64\n"
     ]
    }
   ],
   "source": [
    "# 24. Создать матрицу 5x5 со значениями в строках от 0 до 4\n",
    "\n",
    "# -----------Вариант 1.-----------\n",
    "print('вариант 1')\n",
    "m = np.zeros([5,5])\n",
    "m += np.arange(5)\n",
    "print(m)\n",
    "print(m.dtype)\n",
    "print()\n",
    "# -----------Вариант 2.-----------\n",
    "print('вариант 2')\n",
    "m = np.tile(np.arange(5,dtype='float'),[5,1])\n",
    "print(m)\n",
    "print(m.dtype)"
   ]
  },
  {
   "cell_type": "code",
   "execution_count": 146,
   "metadata": {},
   "outputs": [
    {
     "data": {
      "text/plain": [
       "array([0., 1., 2., 3., 4., 5., 6., 7., 8., 9.])"
      ]
     },
     "execution_count": 146,
     "metadata": {},
     "output_type": "execute_result"
    }
   ],
   "source": [
    "# 25. Есть генератор, сделать с его помощью массив\n",
    "g=([i for i in range(10)] for j in range(5))\n",
    "g=(i for i in range(10))\n",
    "np.fromiter(g, dtype='float')"
   ]
  },
  {
   "cell_type": "code",
   "execution_count": 173,
   "metadata": {},
   "outputs": [
    {
     "name": "stdout",
     "output_type": "stream",
     "text": [
      "[0. 1. 2. 3. 4. 5. 6. 7. 8. 9.]\n"
     ]
    }
   ],
   "source": [
    "# 25. Есть генератор, сделать с его помощью массив\n",
    "\n",
    "# -----------Вариант 1.-----------\n",
    "# Однако, функция fromiter поддерживает только одномерные массивы (векторы)\n",
    "def generate():\n",
    "    for x in range(10):\n",
    "            yield x\n",
    "        \n",
    "m = np.fromiter(generate(), dtype='float', count=-1)\n",
    "print(m)\n",
    "\n",
    "# -----------Вариант 2.-----------\n",
    "# Сделаем, чтобы была возможность преобразовывать и многомерные массивы\n"
   ]
  },
  {
   "cell_type": "code",
   "execution_count": 196,
   "metadata": {},
   "outputs": [
    {
     "name": "stdout",
     "output_type": "stream",
     "text": [
      "вариант 1\n",
      "[0.09090909 0.18181818 0.27272727 0.36363636 0.45454545 0.54545455\n",
      " 0.63636364 0.72727273 0.81818182 0.90909091]\n",
      "\n",
      "вариант 2\n",
      "[0.09090909 0.18181818 0.27272727 0.36363636 0.45454545 0.54545455\n",
      " 0.63636364 0.72727273 0.81818182 0.90909091]\n"
     ]
    }
   ],
   "source": [
    "# 26. Создать вектор размера 10 со значениями от 0 до 1, не включая ни то, ни другое\n",
    "\n",
    "# -----------Вариант 1.-----------\n",
    "print('вариант 1')\n",
    "v = np.linspace(start=0, stop=1, num=12)[1:-1]\n",
    "print(v)\n",
    "print()\n",
    "# -----------Вариант 2.-----------\n",
    "print('вариант 2')\n",
    "v = np.linspace(0,1,11, endpoint=False)\n",
    "v = v[1:]\n",
    "print(v)"
   ]
  },
  {
   "cell_type": "code",
   "execution_count": 221,
   "metadata": {},
   "outputs": [
    {
     "name": "stdout",
     "output_type": "stream",
     "text": [
      "[0.18016463 0.24377808 0.51881267 0.59645635 0.65509912 0.7753623\n",
      " 0.80574937 0.81813011 0.85278596 0.88155365]\n"
     ]
    }
   ],
   "source": [
    "# 27. Отсортировать вектор\n",
    "\n",
    "v = np.random.random(size=[10])\n",
    "v = np.sort(a=v, axis=0)\n",
    "print(v)\n"
   ]
  },
  {
   "cell_type": "code",
   "execution_count": 226,
   "metadata": {},
   "outputs": [
    {
     "name": "stdout",
     "output_type": "stream",
     "text": [
      "True\n",
      "True\n"
     ]
    }
   ],
   "source": [
    "# 28. Проверить, одинаковы ли 2 NumPy массива\n",
    "\n",
    "a = np.array([1,2,3,4,5])\n",
    "b = np.array([1,2,3,4,5])\n",
    "print(np.array_equal(a,b))\n",
    "print(np.allclose(a,b))\n"
   ]
  },
  {
   "cell_type": "code",
   "execution_count": 228,
   "metadata": {},
   "outputs": [
    {
     "ename": "ValueError",
     "evalue": "assignment destination is read-only",
     "output_type": "error",
     "traceback": [
      "\u001b[1;31m---------------------------------------------------------------------------\u001b[0m",
      "\u001b[1;31mValueError\u001b[0m                                Traceback (most recent call last)",
      "\u001b[1;32m<ipython-input-228-630f7a89ccb8>\u001b[0m in \u001b[0;36m<module>\u001b[1;34m()\u001b[0m\n\u001b[0;32m      2\u001b[0m \u001b[0mm\u001b[0m \u001b[1;33m=\u001b[0m \u001b[0mnp\u001b[0m\u001b[1;33m.\u001b[0m\u001b[0mzeros\u001b[0m\u001b[1;33m(\u001b[0m\u001b[1;33m[\u001b[0m\u001b[1;36m5\u001b[0m\u001b[1;33m,\u001b[0m\u001b[1;36m5\u001b[0m\u001b[1;33m]\u001b[0m\u001b[1;33m)\u001b[0m\u001b[1;33m\u001b[0m\u001b[0m\n\u001b[0;32m      3\u001b[0m \u001b[0mm\u001b[0m\u001b[1;33m.\u001b[0m\u001b[0mflags\u001b[0m\u001b[1;33m.\u001b[0m\u001b[0mwriteable\u001b[0m \u001b[1;33m=\u001b[0m \u001b[1;32mFalse\u001b[0m\u001b[1;33m\u001b[0m\u001b[0m\n\u001b[1;32m----> 4\u001b[1;33m \u001b[0mm\u001b[0m\u001b[1;33m[\u001b[0m\u001b[1;36m0\u001b[0m\u001b[1;33m]\u001b[0m \u001b[1;33m=\u001b[0m \u001b[1;36m1\u001b[0m\u001b[1;33m\u001b[0m\u001b[0m\n\u001b[0m",
      "\u001b[1;31mValueError\u001b[0m: assignment destination is read-only"
     ]
    }
   ],
   "source": [
    "# 29. Сделать массив неизменяемым\n",
    "m = np.zeros([5,5])\n",
    "m.flags.writeable = False\n",
    "m[0] = 1"
   ]
  },
  {
   "cell_type": "code",
   "execution_count": 229,
   "metadata": {},
   "outputs": [
    {
     "name": "stdout",
     "output_type": "stream",
     "text": [
      "[1.18099562 0.87406186 0.69688492 0.6072008  0.74970337 0.57479907\n",
      " 0.48523153 1.03595076 0.62338744 0.49429698]\n",
      "[0.89351812 0.09813441 0.49658762 0.73600869 0.6185531  1.4790168\n",
      " 1.44706178 0.63051638 1.47286207 0.86981304]\n"
     ]
    }
   ],
   "source": [
    "# 30. Дан массив 10x2 (точки в декартовой системе координат),\n",
    "# нужно преобразовать в полярную\n",
    "\n",
    "m = np.random.random([10,2])\n",
    "x,y = m[:,0], m[:,1]\n",
    "r = np.hypot(x,y)\n",
    "t = np.arctan2(y,x)\n",
    "print(r)\n",
    "print(t)"
   ]
  },
  {
   "cell_type": "code",
   "execution_count": 283,
   "metadata": {},
   "outputs": [
    {
     "data": {
      "text/plain": [
       "array([[0.70375586, 0.95574067, 0.19165307, 0.95215953, 0.1297289 ],\n",
       "       [0.75873515, 0.94873266, 0.72913879, 0.48371332, 0.27451666],\n",
       "       [0.95845849, 0.90752246, 0.74859691, 0.1650814 , 0.3675887 ],\n",
       "       [0.9856258 , 0.06776647, 0.65289203, 0.83518134, 0.52124658],\n",
       "       [0.27540405, 0.92182456, 0.20751392, 0.30906305, 0.84678731]])"
      ]
     },
     "execution_count": 283,
     "metadata": {},
     "output_type": "execute_result"
    }
   ],
   "source": [
    "# 31. Заменить максимальный элемент на 0\n",
    "\n",
    "# -----------Вариант 1.-----------\n",
    "\n",
    "# Однако, если в массиве будут повторяющиеся минимальные или максимальные элементы,\n",
    "# то присваивание 0 производиться не будет\n",
    "m = np.random.random([5,5])\n",
    "m.flatten()[m.argmax()] = 0\n",
    "m\n",
    "# print(m.argmax())\n",
    "# m[16]\n",
    "\n",
    "# # -----------Вариант 2.-----------\n",
    "# m = np.random.randint(low=1, high=10, size=[5,5])\n",
    "# m[np.where(m == m.min())] = 0\n",
    "# print()\n",
    "# print(m)\n"
   ]
  },
  {
   "cell_type": "code",
   "execution_count": null,
   "metadata": {},
   "outputs": [],
   "source": []
  },
  {
   "cell_type": "code",
   "execution_count": null,
   "metadata": {},
   "outputs": [],
   "source": []
  }
 ],
 "metadata": {
  "kernelspec": {
   "display_name": "Python 3",
   "language": "python",
   "name": "python3"
  },
  "language_info": {
   "codemirror_mode": {
    "name": "ipython",
    "version": 3
   },
   "file_extension": ".py",
   "mimetype": "text/x-python",
   "name": "python",
   "nbconvert_exporter": "python",
   "pygments_lexer": "ipython3",
   "version": "3.6.5"
  }
 },
 "nbformat": 4,
 "nbformat_minor": 1
}
