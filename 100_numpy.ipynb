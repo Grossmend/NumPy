{
 "cells": [
  {
   "cell_type": "code",
   "execution_count": 14,
   "metadata": {},
   "outputs": [],
   "source": [
    "# 1. Импортировать NumPy\n",
    "import numpy as np"
   ]
  },
  {
   "cell_type": "code",
   "execution_count": 15,
   "metadata": {},
   "outputs": [
    {
     "name": "stdout",
     "output_type": "stream",
     "text": [
      "1.14.2\n"
     ]
    }
   ],
   "source": [
    "# 2. Напечатать версию и конфигурацию\n",
    "print(np.__version__)"
   ]
  },
  {
   "cell_type": "code",
   "execution_count": 16,
   "metadata": {},
   "outputs": [
    {
     "data": {
      "text/plain": [
       "array([0., 0., 0., 0., 0., 0., 0., 0., 0., 0.])"
      ]
     },
     "execution_count": 16,
     "metadata": {},
     "output_type": "execute_result"
    }
   ],
   "source": [
    "# 3. Создать вектор (одномерный массив) размера 10, заполненый нулями\n",
    "np.zeros([10])"
   ]
  },
  {
   "cell_type": "code",
   "execution_count": 17,
   "metadata": {},
   "outputs": [
    {
     "data": {
      "text/plain": [
       "array([1., 1., 1., 1., 1., 1., 1., 1., 1., 1.])"
      ]
     },
     "execution_count": 17,
     "metadata": {},
     "output_type": "execute_result"
    }
   ],
   "source": [
    "# 4. Создать вектор размер 10, заполненный единицами\n",
    "np.ones([10])"
   ]
  },
  {
   "cell_type": "code",
   "execution_count": 18,
   "metadata": {},
   "outputs": [
    {
     "data": {
      "text/plain": [
       "array([2.5, 2.5, 2.5, 2.5, 2.5, 2.5, 2.5, 2.5, 2.5, 2.5])"
      ]
     },
     "execution_count": 18,
     "metadata": {},
     "output_type": "execute_result"
    }
   ],
   "source": [
    "# 5. Создать вектор размера 10, заполненный числом 2.5\n",
    "np.full([10], 2.5)"
   ]
  },
  {
   "cell_type": "code",
   "execution_count": 20,
   "metadata": {},
   "outputs": [],
   "source": [
    "# 6. Получить документацию о функции numpy.add из командной строки\n",
    "help (np.add)"
   ]
  },
  {
   "cell_type": "code",
   "execution_count": 21,
   "metadata": {},
   "outputs": [
    {
     "data": {
      "text/plain": [
       "array([0., 0., 0., 0., 1., 0., 0., 0., 0., 0.])"
      ]
     },
     "execution_count": 21,
     "metadata": {},
     "output_type": "execute_result"
    }
   ],
   "source": [
    "# 7. Создать вектор заполненный нулями, но пятый элемент равен 1\n",
    "v = np.zeros([10])\n",
    "v[4] = 1\n",
    "v"
   ]
  },
  {
   "cell_type": "code",
   "execution_count": 22,
   "metadata": {},
   "outputs": [
    {
     "data": {
      "text/plain": [
       "array([10, 11, 12, 13, 14, 15, 16, 17, 18, 19, 20, 21, 22, 23, 24, 25, 26,\n",
       "       27, 28, 29, 30, 31, 32, 33, 34, 35, 36, 37, 38, 39, 40, 41, 42, 43,\n",
       "       44, 45, 46, 47, 48, 49])"
      ]
     },
     "execution_count": 22,
     "metadata": {},
     "output_type": "execute_result"
    }
   ],
   "source": [
    "# 8. Создать вектор со значениями от 10 до 49\n",
    "v = np.arange(start=10,stop=50)\n",
    "v"
   ]
  },
  {
   "cell_type": "code",
   "execution_count": 25,
   "metadata": {},
   "outputs": [
    {
     "name": "stdout",
     "output_type": "stream",
     "text": [
      "вариант 1\n",
      "[10  9  8  7  6  5  4  3  2  1]\n",
      "\n",
      "вариант 2\n",
      "[10  9  8  7  6  5  4  3  2  1]\n"
     ]
    }
   ],
   "source": [
    "# 9. Развернуть вектор (первый становится последним)\n",
    "v = np.arange(start=1, stop=11)\n",
    "print('вариант 1')\n",
    "v1 = v[::-1]\n",
    "print(v1)\n",
    "print()\n",
    "print('вариант 2')\n",
    "v2 = np.flip(v, 0)\n",
    "print(v2)"
   ]
  },
  {
   "cell_type": "code",
   "execution_count": 41,
   "metadata": {},
   "outputs": [
    {
     "data": {
      "text/plain": [
       "array([[0, 1, 2],\n",
       "       [3, 4, 5],\n",
       "       [6, 7, 8]])"
      ]
     },
     "execution_count": 41,
     "metadata": {},
     "output_type": "execute_result"
    }
   ],
   "source": [
    "# 10. Создать матрицу (двумерный массив) 3x3 со значениями от 0 до 8\n",
    "m = np.arange(0,9).reshape(3,3)\n",
    "np.reshape\n",
    "m"
   ]
  },
  {
   "cell_type": "code",
   "execution_count": 33,
   "metadata": {},
   "outputs": [
    {
     "name": "stdout",
     "output_type": "stream",
     "text": [
      "вариант 1\n",
      "(array([0, 1, 4], dtype=int32),)\n",
      "\n",
      "вариант 2\n",
      "(array([0, 1, 4], dtype=int32),)\n"
     ]
    }
   ],
   "source": [
    "# 11. Найти индексы ненулевых элементов в [1,2,0,0,4,0]\n",
    "\n",
    "# -----------вариант 1.-----------\n",
    "print('вариант 1')\n",
    "print(np.nonzero([1,2,0,0,4,0]))\n",
    "print()\n",
    "\n",
    "# -----------вариант 2.-----------\n",
    "print('вариант 2')\n",
    "v = np.array([1,2,0,0,4,0])\n",
    "print(np.where(v != 0))"
   ]
  },
  {
   "cell_type": "code",
   "execution_count": 42,
   "metadata": {},
   "outputs": [
    {
     "data": {
      "text/plain": [
       "array([[1., 0., 0.],\n",
       "       [0., 1., 0.],\n",
       "       [0., 0., 1.]])"
      ]
     },
     "execution_count": 42,
     "metadata": {},
     "output_type": "execute_result"
    }
   ],
   "source": [
    "# 12. Создать единичную матрицу 3x3\n",
    "np.eye(3)"
   ]
  },
  {
   "cell_type": "code",
   "execution_count": 43,
   "metadata": {},
   "outputs": [
    {
     "data": {
      "text/plain": [
       "array([[[0.61052372, 0.21895127, 0.77138185],\n",
       "        [0.55763167, 0.34263457, 0.51770609],\n",
       "        [0.08085674, 0.84612361, 0.53404771]],\n",
       "\n",
       "       [[0.37225285, 0.82630833, 0.9153937 ],\n",
       "        [0.56062089, 0.81116999, 0.60104827],\n",
       "        [0.98697149, 0.79233467, 0.34716222]],\n",
       "\n",
       "       [[0.84559271, 0.17538198, 0.79914408],\n",
       "        [0.85786202, 0.1850629 , 0.74439501],\n",
       "        [0.62876836, 0.28752064, 0.58530033]]])"
      ]
     },
     "execution_count": 43,
     "metadata": {},
     "output_type": "execute_result"
    }
   ],
   "source": [
    "# 13. Создать массив 3x3x3 со случайными значениями\n",
    "np.random.random([3,3,3])"
   ]
  },
  {
   "cell_type": "code",
   "execution_count": 44,
   "metadata": {
    "slideshow": {
     "slide_type": "-"
    }
   },
   "outputs": [
    {
     "name": "stdout",
     "output_type": "stream",
     "text": [
      "варинат 1\n",
      "0.0030022503405340295 0.9940501825199489\n",
      "\n",
      "вариант 2\n",
      "0.0030022503405340295\n",
      "0.9940501825199489\n"
     ]
    }
   ],
   "source": [
    "# 14. Создать массив 10x10 со случайными значениями, найти минимум и максимум\n",
    "m = np.random.random([10,10])\n",
    "\n",
    "# -----------вариант 1.-----------\n",
    "max_var1, max_var2 = m.min(), m.max()\n",
    "print('варинат 1')\n",
    "print(max_var1, max_var2)\n",
    "print()\n",
    "\n",
    "# -----------вариант 2.-----------\n",
    "print('вариант 2')\n",
    "min_var2 = np.min(m)\n",
    "max_var2 = np.max(m)\n",
    "print(min_var2)\n",
    "print(max_var2)"
   ]
  },
  {
   "cell_type": "code",
   "execution_count": 45,
   "metadata": {},
   "outputs": [
    {
     "data": {
      "text/plain": [
       "0.4803450402995165"
      ]
     },
     "execution_count": 45,
     "metadata": {},
     "output_type": "execute_result"
    }
   ],
   "source": [
    "# 15. Создать случайный вектор размера 30 и найти среднее значение всех элементов\n",
    "v = np.random.random([30])\n",
    "v.mean()"
   ]
  },
  {
   "cell_type": "code",
   "execution_count": 46,
   "metadata": {},
   "outputs": [
    {
     "data": {
      "text/plain": [
       "array([[1., 1., 1., 1., 1., 1., 1., 1., 1., 1.],\n",
       "       [1., 0., 0., 0., 0., 0., 0., 0., 0., 1.],\n",
       "       [1., 0., 0., 0., 0., 0., 0., 0., 0., 1.],\n",
       "       [1., 0., 0., 0., 0., 0., 0., 0., 0., 1.],\n",
       "       [1., 0., 0., 0., 0., 0., 0., 0., 0., 1.],\n",
       "       [1., 0., 0., 0., 0., 0., 0., 0., 0., 1.],\n",
       "       [1., 0., 0., 0., 0., 0., 0., 0., 0., 1.],\n",
       "       [1., 0., 0., 0., 0., 0., 0., 0., 0., 1.],\n",
       "       [1., 0., 0., 0., 0., 0., 0., 0., 0., 1.],\n",
       "       [1., 1., 1., 1., 1., 1., 1., 1., 1., 1.]])"
      ]
     },
     "execution_count": 46,
     "metadata": {},
     "output_type": "execute_result"
    }
   ],
   "source": [
    "# 16. Создать матрицу с 0 внутри и 1 на границах\n",
    "\n",
    "# -----------вариант 1.-----------\n",
    "m = np.ones([10,10])\n",
    "m[1:-1, 1:-1] = 0\n",
    "m"
   ]
  },
  {
   "cell_type": "code",
   "execution_count": 47,
   "metadata": {},
   "outputs": [
    {
     "name": "stdout",
     "output_type": "stream",
     "text": [
      "nan\n",
      "False\n",
      "False\n",
      "nan\n",
      "False\n"
     ]
    }
   ],
   "source": [
    "# 17. Выяснить результат следующих выражений\n",
    "print(0 * np.nan)\n",
    "print(np.nan == np.nan)\n",
    "print(np.inf > np.nan)\n",
    "print(np.nan - np.nan)\n",
    "print(0.3 == 3 * 0.1)"
   ]
  },
  {
   "cell_type": "code",
   "execution_count": 151,
   "metadata": {},
   "outputs": [
    {
     "name": "stdout",
     "output_type": "stream",
     "text": [
      "\n",
      "Вариант 1\n",
      "[[0 0 0 0 0]\n",
      " [1 0 0 0 0]\n",
      " [0 2 0 0 0]\n",
      " [0 0 3 0 0]\n",
      " [0 0 0 4 0]]\n",
      "\n",
      "Вариант 2\n",
      "[[0 1 0 0 0]\n",
      " [1 0 2 0 0]\n",
      " [0 2 0 3 0]\n",
      " [0 0 3 0 4]\n",
      " [0 0 0 4 0]]\n",
      "\n",
      "Вариант 3\n",
      "[[0 1 0 0 0]\n",
      " [1 0 2 0 0]\n",
      " [0 2 0 3 0]\n",
      " [0 0 3 0 4]\n",
      " [0 0 0 4 0]]\n"
     ]
    }
   ],
   "source": [
    "# 18. Создать 5x5 матрицу с 1,2,3,4 под диагональю\n",
    "\n",
    "# -----------Вариант 1.-----------\n",
    "# Решение в интернете, но я хотел чтобы было добавление с двух сторон k-+1\n",
    "# и была возможность добавления на существующую матрицу\n",
    "\n",
    "m = np.diag(np.arange(1, 5), k=-1)\n",
    "\n",
    "print()\n",
    "print('Вариант 1')\n",
    "print(m)\n",
    "\n",
    "# -----------Вариант 2.-----------\n",
    "# Тяжелый и неправильный вариант. Созданы 4 лишних переменные.\n",
    "\n",
    "# m = np.arange(1, 26).reshape([5,5])\n",
    "m = np.zeros([5,5], dtype='i')\n",
    "\n",
    "# создаем доп. матрицы с нужными диагоналями\n",
    "d1 = np.diag(np.arange(1, m.shape[0]), k=-1)\n",
    "d2 = np.diag(np.arange(1, m.shape[0]), k=1)\n",
    "\n",
    "# получаем индексы, которые удовлетворяют условию\n",
    "ind1 = np.where(d1>0)\n",
    "ind2 = np.where(d2>0)\n",
    "\n",
    "# присвоение значений по индексам\n",
    "diag_vec = np.arange(start=1, stop=5, dtype='i')\n",
    "m[ind1] = diag_vec\n",
    "m[ind2] = diag_vec\n",
    "\n",
    "print()\n",
    "print('Вариант 2')\n",
    "print(m)\n",
    "\n",
    "# -----------Вариант 3.-----------\n",
    "# Легкий варинат без создания дополнительной матрицы\n",
    "\n",
    "# определим функцию, которая возвращает индексы в зависимсоти от смещения (k) матрицы (m)\n",
    "\n",
    "def diag_indices_k(m, k):\n",
    "    \n",
    "    \"\"\" функция возвращает индексы диагональных элементов матрицы (m) со смещением (k) \"\"\"\n",
    "    \n",
    "    rows, cols = np.diag_indices_from(m)\n",
    "    if k < 0:\n",
    "        return rows[-k:], cols[:k]\n",
    "    elif k > 0:\n",
    "        return rows[:-k], cols[k:]\n",
    "    else:\n",
    "        return rows, cols\n",
    "\n",
    "# создаем матрицу (m)\n",
    "\n",
    "# m = np.arange(1, 26).reshape([5,5])\n",
    "m = np.zeros([5,5], dtype='i')\n",
    "\n",
    "# проставляем со смещением диагональные значения\n",
    "diag_vec = np.arange(start=1, stop=5, dtype='i')\n",
    "m[diag_indices_k(m, -1)] = diag_vec\n",
    "m[diag_indices_k(m, 1)] = diag_vec\n",
    "\n",
    "print()\n",
    "print('Вариант 3')\n",
    "print(m)\n"
   ]
  },
  {
   "cell_type": "code",
   "execution_count": 149,
   "metadata": {},
   "outputs": [
    {
     "data": {
      "text/plain": [
       "array([[1., 0., 1., 0., 1., 0., 1., 0.],\n",
       "       [0., 1., 0., 1., 0., 1., 0., 1.],\n",
       "       [1., 0., 1., 0., 1., 0., 1., 0.],\n",
       "       [0., 1., 0., 1., 0., 1., 0., 1.],\n",
       "       [1., 0., 1., 0., 1., 0., 1., 0.],\n",
       "       [0., 1., 0., 1., 0., 1., 0., 1.],\n",
       "       [1., 0., 1., 0., 1., 0., 1., 0.],\n",
       "       [0., 1., 0., 1., 0., 1., 0., 1.]])"
      ]
     },
     "execution_count": 149,
     "metadata": {},
     "output_type": "execute_result"
    }
   ],
   "source": [
    "# 19. Создать матрицу 8x8 и заполнить ее в шахматном порядке\n",
    "m = np.zeros([8,8])\n",
    "m[::2, ::2] = 1\n",
    "m[1::2, 1::2] = 1\n",
    "m"
   ]
  },
  {
   "cell_type": "code",
   "execution_count": 52,
   "metadata": {},
   "outputs": [
    {
     "name": "stdout",
     "output_type": "stream",
     "text": [
      "(1, 5, 4)\n"
     ]
    }
   ],
   "source": [
    "# 20. Дан массив размерности (6,7,8). Каков индекс (x,y,z) сотого элемента?\n",
    "print(np.unravel_index(100, (6,7,8)))"
   ]
  },
  {
   "cell_type": "code",
   "execution_count": 135,
   "metadata": {},
   "outputs": [
    {
     "name": "stdout",
     "output_type": "stream",
     "text": [
      "вариант 1\n",
      "[[1 0 1 0 1 0 1 0]\n",
      " [0 1 0 1 0 1 0 1]\n",
      " [1 0 1 0 1 0 1 0]\n",
      " [0 1 0 1 0 1 0 1]\n",
      " [1 0 1 0 1 0 1 0]\n",
      " [0 1 0 1 0 1 0 1]\n",
      " [1 0 1 0 1 0 1 0]\n",
      " [0 1 0 1 0 1 0 1]]\n",
      "\n",
      "\n",
      "вариант 2\n",
      "[[1 0 1 0 1 0 1 0]\n",
      " [0 1 0 1 0 1 0 1]\n",
      " [1 0 1 0 1 0 1 0]\n",
      " [0 1 0 1 0 1 0 1]\n",
      " [1 0 1 0 1 0 1 0]\n",
      " [0 1 0 1 0 1 0 1]\n",
      " [1 0 1 0 1 0 1 0]\n",
      " [0 1 0 1 0 1 0 1]]\n",
      "\n",
      "True\n"
     ]
    }
   ],
   "source": [
    "# 21. Создать матрицу 8x8 и заполнить ее в шахматном порядке, используя функцию tile\n",
    "\n",
    "# -----------Вариант 1.-----------\n",
    "m1 = np.tile(A=np.array([[1,0], [0,1]]), reps=[4,4])\n",
    "print('вариант 1')\n",
    "print(m1)\n",
    "print()\n",
    "# -----------Вариант 2 (первое что пришло в голову).-----------\n",
    "\n",
    "# тяжелый вариант\n",
    "begin = np.array([0,1])\n",
    "m2 = np.tile(begin, [8,5])\n",
    "\n",
    "# m2 = np.arange(start=1, stop=65).reshape(8,8)\n",
    "# print(m)\n",
    "\n",
    "m2[::2,0:-1] = m2[::2,1:]\n",
    "m2 = m2[:,:-2]\n",
    "\n",
    "print()\n",
    "print('вариант 2')\n",
    "print(m2)\n",
    "\n",
    "# проверка на равенство двух матриц\n",
    "print()\n",
    "print(np.array_equal(m1, m2))\n"
   ]
  },
  {
   "cell_type": "code",
   "execution_count": 80,
   "metadata": {},
   "outputs": [
    {
     "name": "stdout",
     "output_type": "stream",
     "text": [
      "[[0.65988775 0.84825129]\n",
      " [0.56543956 0.42502105]\n",
      " [0.30422678 0.36332224]\n",
      " [0.62463811 0.667436  ]\n",
      " [0.58368468 0.77653102]]\n"
     ]
    }
   ],
   "source": [
    "# 22. Перемножить матрицы 5x3 и 3x2\n",
    "\n",
    "a = np.random.random([5,3])\n",
    "b = np.random.random([3,2])\n",
    "print(np.dot(a,b))\n"
   ]
  },
  {
   "cell_type": "code",
   "execution_count": 81,
   "metadata": {},
   "outputs": [
    {
     "name": "stdout",
     "output_type": "stream",
     "text": [
      "[[14 27 30 66 53 13 47]\n",
      " [49 67 26 65 11 63 32]\n",
      " [37 28 22 57 80 97 13]\n",
      " [63 68 83  6 21 93 40]\n",
      " [47 56 69 85 76 56 60]]\n",
      "\n",
      "[[14 27 30 53 47]\n",
      " [49 67 26 11 32]\n",
      " [37 28 22 80 13]\n",
      " [63 68 83 21 40]\n",
      " [47 56 69 76 60]]\n"
     ]
    }
   ],
   "source": [
    "# 22.1. Создать случайную матрицу 5x7 целых чисел от 1 до 100 и удалить [3,5] колонки\n",
    "m = np.random.randint(low=1, high=100, size=[5,7])\n",
    "print(m)\n",
    "print()\n",
    "d = [3,5]\n",
    "m = np.delete(arr=m, obj=d, axis=1)\n",
    "print(m)"
   ]
  },
  {
   "cell_type": "code",
   "execution_count": 83,
   "metadata": {},
   "outputs": [
    {
     "name": "stdout",
     "output_type": "stream",
     "text": [
      "[[23 24 17  9 22]\n",
      " [-4 15 13 18  9]\n",
      " [20  8 -7 12 14]\n",
      " [23 10 12 13 13]\n",
      " [-4  2 -7 -7 24]]\n",
      "\n",
      "[[ 3  8 12  2 13]\n",
      " [-4 15 24 -7 15]\n",
      " [11 18 23 21  8]\n",
      " [ 8 22 14  9 -7]\n",
      " [18 10 11 16 23]]\n"
     ]
    }
   ],
   "source": [
    "# 23. Дан массив, поменять знак у элементов, значения которых между 3 и 8\n",
    "# -----------Вариант 1.-----------\n",
    "m = np.random.randint(low=1, high=25, size=[5,5])\n",
    "m[(m > 3) & (m < 8)] *=-1\n",
    "print(m)\n",
    "print()\n",
    "\n",
    "# -----------Вариант 2.-----------\n",
    "m = np.random.randint(low=1, high=25, size=[5,5])\n",
    "ind = np.where((m > 3) & (m < 8))\n",
    "m[ind] *=-1\n",
    "print(m)"
   ]
  },
  {
   "cell_type": "code",
   "execution_count": 84,
   "metadata": {},
   "outputs": [
    {
     "name": "stdout",
     "output_type": "stream",
     "text": [
      "вариант 1\n",
      "[[0. 1. 2. 3. 4.]\n",
      " [0. 1. 2. 3. 4.]\n",
      " [0. 1. 2. 3. 4.]\n",
      " [0. 1. 2. 3. 4.]\n",
      " [0. 1. 2. 3. 4.]]\n",
      "float64\n",
      "\n",
      "вариант 2\n",
      "[[0. 1. 2. 3. 4.]\n",
      " [0. 1. 2. 3. 4.]\n",
      " [0. 1. 2. 3. 4.]\n",
      " [0. 1. 2. 3. 4.]\n",
      " [0. 1. 2. 3. 4.]]\n",
      "float64\n"
     ]
    }
   ],
   "source": [
    "# 24. Создать матрицу 5x5 со значениями в строках от 0 до 4\n",
    "\n",
    "# -----------Вариант 1.-----------\n",
    "print('вариант 1')\n",
    "m = np.zeros([5,5])\n",
    "m += np.arange(5)\n",
    "print(m)\n",
    "print(m.dtype)\n",
    "print()\n",
    "\n",
    "# -----------Вариант 2.-----------\n",
    "print('вариант 2')\n",
    "m = np.tile(np.arange(5,dtype='float'),[5,1])\n",
    "print(m)\n",
    "print(m.dtype)"
   ]
  },
  {
   "cell_type": "code",
   "execution_count": 85,
   "metadata": {},
   "outputs": [
    {
     "name": "stdout",
     "output_type": "stream",
     "text": [
      "[0. 1. 2. 3. 4. 5. 6. 7. 8. 9.]\n"
     ]
    }
   ],
   "source": [
    "# 25. Есть генератор, сделать с его помощью массив\n",
    "\n",
    "# -----------Вариант 1.-----------\n",
    "# Однако, функция fromiter поддерживает только одномерные массивы (векторы)\n",
    "def generate():\n",
    "    for x in range(10):\n",
    "            yield x\n",
    "        \n",
    "m = np.fromiter(generate(), dtype='float', count=-1)\n",
    "print(m)\n",
    "\n",
    "# -----------Вариант 2.-----------\n",
    "# Сделаем, чтобы была возможность преобразовывать и многомерные массивы"
   ]
  },
  {
   "cell_type": "code",
   "execution_count": 86,
   "metadata": {},
   "outputs": [
    {
     "name": "stdout",
     "output_type": "stream",
     "text": [
      "[[0 1 2 3 4 5 6 7 8 9]\n",
      " [0 1 2 3 4 5 6 7 8 9]\n",
      " [0 1 2 3 4 5 6 7 8 9]\n",
      " [0 1 2 3 4 5 6 7 8 9]\n",
      " [0 1 2 3 4 5 6 7 8 9]\n",
      " [0 1 2 3 4 5 6 7 8 9]\n",
      " [0 1 2 3 4 5 6 7 8 9]\n",
      " [0 1 2 3 4 5 6 7 8 9]\n",
      " [0 1 2 3 4 5 6 7 8 9]\n",
      " [0 1 2 3 4 5 6 7 8 9]]\n",
      "int32\n"
     ]
    }
   ],
   "source": [
    "# 25.1 Создать двумерный список и преобразовать его в NumPy массив (с типом int32)\n",
    "\n",
    "list_arr = [[i for i in range(10)] for j in range(10)]\n",
    "np_arr = np.array(list_arr, dtype='i')\n",
    "print(np_arr)\n",
    "print(np_arr.dtype)"
   ]
  },
  {
   "cell_type": "code",
   "execution_count": 91,
   "metadata": {},
   "outputs": [
    {
     "name": "stdout",
     "output_type": "stream",
     "text": [
      "вариант 1\n",
      "[0.09090909 0.18181818 0.27272727 0.36363636 0.45454545 0.54545455\n",
      " 0.63636364 0.72727273 0.81818182 0.90909091]\n",
      "\n",
      "вариант 2\n",
      "[0.09090909 0.18181818 0.27272727 0.36363636 0.45454545 0.54545455\n",
      " 0.63636364 0.72727273 0.81818182 0.90909091]\n"
     ]
    }
   ],
   "source": [
    "# 26. Создать вектор размера 10 со значениями от 0 до 1, не включая ни то, ни другое\n",
    "\n",
    "# -----------Вариант 1.-----------\n",
    "print('вариант 1')\n",
    "v = np.linspace(start=0, stop=1, num=12)[1:-1]\n",
    "print(v)\n",
    "print()\n",
    "# -----------Вариант 2.-----------\n",
    "print('вариант 2')\n",
    "v = np.linspace(0,1,11, endpoint=False)\n",
    "v = v[1:]\n",
    "print(v)\n"
   ]
  },
  {
   "cell_type": "code",
   "execution_count": 95,
   "metadata": {},
   "outputs": [
    {
     "name": "stdout",
     "output_type": "stream",
     "text": [
      "[0.75588505 0.89849978 0.92899815 0.2470675  0.69969153 0.764635\n",
      " 0.37199536 0.02241758 0.37844922 0.74237717]\n",
      "\n",
      "[0.02241758 0.2470675  0.37199536 0.37844922 0.69969153 0.74237717\n",
      " 0.75588505 0.764635   0.89849978 0.92899815]\n"
     ]
    }
   ],
   "source": [
    "# 27. Отсортировать вектор\n",
    "\n",
    "v = np.random.random(size=[10])\n",
    "print(v)\n",
    "print()\n",
    "v = np.sort(a=v, axis=0)\n",
    "print(v)\n"
   ]
  },
  {
   "cell_type": "code",
   "execution_count": 98,
   "metadata": {},
   "outputs": [
    {
     "name": "stdout",
     "output_type": "stream",
     "text": [
      "вариант 1\n",
      "True\n",
      "\n",
      "вариант 2\n",
      "True\n"
     ]
    }
   ],
   "source": [
    "# 28. Проверить, одинаковы ли 2 NumPy массива\n",
    "\n",
    "a = np.array([1,2,3,4,5])\n",
    "b = np.array([1,2,3,4,5])\n",
    "print('вариант 1')\n",
    "print(np.array_equal(a,b))\n",
    "print()\n",
    "print('вариант 2')\n",
    "print(np.allclose(a,b))\n"
   ]
  },
  {
   "cell_type": "code",
   "execution_count": 99,
   "metadata": {},
   "outputs": [
    {
     "ename": "ValueError",
     "evalue": "assignment destination is read-only",
     "traceback": [
      "\u001b[1;31m------------------------------------------------------------------------\u001b[0m",
      "\u001b[1;31mValueError\u001b[0m                             Traceback (most recent call last)",
      "\u001b[1;32m<ipython-input-99-630f7a89ccb8>\u001b[0m in \u001b[0;36m<module>\u001b[1;34m()\u001b[0m\n\u001b[0;32m      2\u001b[0m \u001b[0mm\u001b[0m \u001b[1;33m=\u001b[0m \u001b[0mnp\u001b[0m\u001b[1;33m.\u001b[0m\u001b[0mzeros\u001b[0m\u001b[1;33m(\u001b[0m\u001b[1;33m[\u001b[0m\u001b[1;36m5\u001b[0m\u001b[1;33m,\u001b[0m\u001b[1;36m5\u001b[0m\u001b[1;33m]\u001b[0m\u001b[1;33m)\u001b[0m\u001b[1;33m\u001b[0m\u001b[0m\n\u001b[0;32m      3\u001b[0m \u001b[0mm\u001b[0m\u001b[1;33m.\u001b[0m\u001b[0mflags\u001b[0m\u001b[1;33m.\u001b[0m\u001b[0mwriteable\u001b[0m \u001b[1;33m=\u001b[0m \u001b[1;32mFalse\u001b[0m\u001b[1;33m\u001b[0m\u001b[0m\n\u001b[1;32m----> 4\u001b[1;33m \u001b[0mm\u001b[0m\u001b[1;33m[\u001b[0m\u001b[1;36m0\u001b[0m\u001b[1;33m]\u001b[0m \u001b[1;33m=\u001b[0m \u001b[1;36m1\u001b[0m\u001b[1;33m\u001b[0m\u001b[0m\n\u001b[0m",
      "\u001b[1;31mValueError\u001b[0m: assignment destination is read-only"
     ],
     "output_type": "error"
    }
   ],
   "source": [
    "# 29. Сделать массив неизменяемым\n",
    "m = np.zeros([5,5])\n",
    "m.flags.writeable = False\n",
    "m[0] = 1"
   ]
  },
  {
   "cell_type": "code",
   "execution_count": 100,
   "metadata": {},
   "outputs": [
    {
     "name": "stdout",
     "output_type": "stream",
     "text": [
      "[0.57247078 0.57925349 0.17396243 0.59189077 0.99935137 1.1146694\n",
      " 0.83034403 0.64801259 0.31471921 0.62784216]\n",
      "[0.97086058 1.53572843 0.90578043 0.57735653 1.25558381 1.09762151\n",
      " 0.26613598 1.28914798 0.06641493 0.41389478]\n"
     ]
    }
   ],
   "source": [
    "# 30. Дан массив 10x2 (точки в декартовой системе координат),\n",
    "# нужно преобразовать в полярную\n",
    "\n",
    "m = np.random.random([10,2])\n",
    "x,y = m[:,0], m[:,1]\n",
    "r = np.hypot(x,y)\n",
    "t = np.arctan2(y,x)\n",
    "print(r)\n",
    "print(t)"
   ]
  },
  {
   "cell_type": "code",
   "execution_count": 102,
   "metadata": {},
   "outputs": [
    {
     "name": "stdout",
     "output_type": "stream",
     "text": [
      "вариант 1\n",
      "[[0.41048325 0.63118981 0.75896173 0.2886029  0.10199674]\n",
      " [0.70271625 0.34552434 0.84829263 0.86080002 0.49455908]\n",
      " [0.67117898 0.11016184 0.70892514 0.92309098 0.38738039]\n",
      " [0.71898109 0.18020699 0.33907409 0.02171194 0.97855252]\n",
      " [0.83656102 0.21380895 0.68643545 0.81234916 0.24676417]]\n",
      "\n",
      "вариант 2\n",
      "[[4 3 6 9 6]\n",
      " [4 2 9 7 0]\n",
      " [0 9 5 9 5]\n",
      " [5 2 4 5 0]\n",
      " [4 5 6 7 5]]\n",
      "\n"
     ]
    }
   ],
   "source": [
    "# 31. Заменить максимальный элемент на 0\n",
    "\n",
    "# -----------Вариант 1.-----------\n",
    "\n",
    "# Однако, если в массиве будут повторяющиеся минимальные или максимальные элементы,\n",
    "# то присваивание 0 производиться не будет\n",
    "print('вариант 1')\n",
    "m = np.random.random([5,5])\n",
    "m.flatten()[m.argmax()] = 0\n",
    "print(m)\n",
    "print()\n",
    "\n",
    "# -----------Вариант 2.-----------\n",
    "\n",
    "# при повторяющихся минимальных элементах замена будет производиться везде (корректный вариант)\n",
    "print('вариант 2')\n",
    "m = np.random.randint(low=1, high=10, size=[5,5])\n",
    "m[np.where(m == m.min())] = 0\n",
    "print(m)\n",
    "print()"
   ]
  },
  {
   "cell_type": "code",
   "execution_count": 105,
   "metadata": {},
   "outputs": [],
   "source": [
    "# 32. Создать структурированный массив с координатами x, y на сетке в квадрате [0,1]x[0,1]\n",
    "m = np.zeros([10,10], [('x', float), ('y', float)])\n",
    "m['x'], m['y'] = np.meshgrid(np.linspace(0,1,10), np.linspace(0,1,10))"
   ]
  },
  {
   "cell_type": "code",
   "execution_count": 106,
   "metadata": {},
   "outputs": [
    {
     "name": "stdout",
     "output_type": "stream",
     "text": [
      "3638.1636371179666\n"
     ]
    }
   ],
   "source": [
    "# 33. Из двух массивов создать матрицу Коши C (Cij = 1/(xi-yj))\n",
    "\n",
    "a = np.arange(8)\n",
    "b = a + 0.5\n",
    "c = 1 / np.subtract.outer(a,b)\n",
    "print(np.linalg.det(c))"
   ]
  },
  {
   "cell_type": "code",
   "execution_count": 107,
   "metadata": {},
   "outputs": [
    {
     "name": "stdout",
     "output_type": "stream",
     "text": [
      "-128\n",
      "127\n",
      "-2147483648\n",
      "2147483647\n",
      "-9223372036854775808\n",
      "9223372036854775807\n",
      "-3.4028235e+38\n",
      "3.4028235e+38\n",
      "1.1920929e-07\n",
      "-1.7976931348623157e+308\n",
      "1.7976931348623157e+308\n",
      "2.220446049250313e-16\n"
     ]
    }
   ],
   "source": [
    "# 34. Найти минимальное и максимальное значение, принимаемое каждым числовым типом numpy\n",
    "\n",
    "for dtype in [np.int8, np.int32, np.int64]:\n",
    "   print(np.iinfo(dtype).min)\n",
    "   print(np.iinfo(dtype).max)\n",
    "for dtype in [np.float32, np.float64]:\n",
    "   print(np.finfo(dtype).min)\n",
    "   print(np.finfo(dtype).max)\n",
    "   print(np.finfo(dtype).eps)\n"
   ]
  },
  {
   "cell_type": "code",
   "execution_count": null,
   "metadata": {},
   "outputs": [
    {
     "name": "stdout",
     "output_type": "stream",
     "text": [
      "[[0. 0. 0. 0. 0.]\n",
      " [0. 0. 0. 0. 0.]\n",
      " [0. 0. 0. 0. 0.]\n",
      " [0. 0. 0. 0. 0.]\n",
      " [0. 0. 0. 0. 0.]]\n"
     ]
    }
   ],
   "source": [
    "# 35. Напечатать все значения в массиве\n",
    "np.set_printoptions(threshold=np.nan)\n",
    "m = np.zeros((5, 5))\n",
    "print(m)"
   ]
  },
  {
   "cell_type": "code",
   "execution_count": 250,
   "metadata": {},
   "outputs": [
    {
     "name": "stdout",
     "output_type": "stream",
     "text": [
      "[[21 21 21]\n",
      " [21 21 21]\n",
      " [21 21 21]]\n"
     ]
    },
    {
     "ename": "AttributeError",
     "evalue": "'tuple' object has no attribute 'flatten'",
     "traceback": [
      "\u001b[1;31m------------------------------------------------------------------------\u001b[0m",
      "\u001b[1;31mAttributeError\u001b[0m                         Traceback (most recent call last)",
      "\u001b[1;32m<ipython-input-250-b8c55bce3b92>\u001b[0m in \u001b[0;36m<module>\u001b[1;34m()\u001b[0m\n\u001b[0;32m     14\u001b[0m \u001b[1;33m\u001b[0m\u001b[0m\n\u001b[0;32m     15\u001b[0m \u001b[0ma\u001b[0m \u001b[1;33m=\u001b[0m \u001b[0mfind_nearest\u001b[0m\u001b[1;33m(\u001b[0m\u001b[0mv\u001b[0m\u001b[1;33m,\u001b[0m \u001b[0mapprox\u001b[0m\u001b[1;33m)\u001b[0m\u001b[1;33m\u001b[0m\u001b[0m\n\u001b[1;32m---> 16\u001b[1;33m \u001b[0ma\u001b[0m\u001b[1;33m.\u001b[0m\u001b[0mflatten\u001b[0m\u001b[1;33m(\u001b[0m\u001b[1;33m)\u001b[0m\u001b[1;33m\u001b[0m\u001b[0m\n\u001b[0m",
      "\u001b[1;31mAttributeError\u001b[0m: 'tuple' object has no attribute 'flatten'"
     ],
     "output_type": "error"
    }
   ],
   "source": [
    "# 36 Найти ближайшее к заданному значению число в заданном массиве\n",
    "\n",
    "v = np.random.randint(low=1, high=100, size=[5,5])\n",
    "v = np.full([3,3], 21)\n",
    "print(v)\n",
    "\n",
    "# к данному числу нужно найти ближайшее число в массиве\n",
    "approx = 21\n",
    "\n",
    "def find_nearest(a, aim):\n",
    "    v = np.abs(a - aim)\n",
    "    idx = np.where(v == v.min())\n",
    "    return idx\n",
    "\n",
    "a = find_nearest(v, approx)\n",
    "a.flatten()"
   ]
  },
  {
   "cell_type": "code",
   "execution_count": 194,
   "metadata": {},
   "outputs": [
    {
     "data": {
      "text/plain": [
       "25"
      ]
     },
     "execution_count": 194,
     "metadata": {},
     "output_type": "execute_result"
    }
   ],
   "source": [
    "def find_nearest(a, a0):\n",
    "    idx = np.abs(a - a0).argmin()\n",
    "    return a.flat[idx]\n",
    "\n",
    "find_nearest(v, approx)"
   ]
  },
  {
   "cell_type": "code",
   "execution_count": null,
   "metadata": {},
   "outputs": [],
   "source": []
  },
  {
   "cell_type": "code",
   "execution_count": null,
   "metadata": {},
   "outputs": [],
   "source": []
  },
  {
   "cell_type": "code",
   "execution_count": null,
   "metadata": {},
   "outputs": [],
   "source": []
  }
 ],
 "metadata": {
  "kernelspec": {
   "display_name": "Python 3",
   "language": "python",
   "name": "python3"
  },
  "language_info": {
   "codemirror_mode": {
    "name": "ipython",
    "version": 3
   },
   "file_extension": ".py",
   "mimetype": "text/x-python",
   "name": "python",
   "nbconvert_exporter": "python",
   "pygments_lexer": "ipython3",
   "version": "3.6.5"
  }
 },
 "nbformat": 4,
 "nbformat_minor": 2
}
