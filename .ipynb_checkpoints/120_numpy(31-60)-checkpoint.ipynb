{
 "cells": [
  {
   "cell_type": "code",
   "execution_count": 1,
   "metadata": {},
   "outputs": [],
   "source": [
    "# 1. Импортировать NumPy\n",
    "import numpy as np\n",
    "# Импортируем модули\n",
    "import matplotlib.pyplot as plt\n",
    "import seaborn as sns"
   ]
  },
  {
   "cell_type": "code",
   "execution_count": 2,
   "metadata": {},
   "outputs": [
    {
     "name": "stdout",
     "output_type": "stream",
     "text": [
      "вариант 1\n",
      "[[0.08837489 0.42593782 0.37205752 0.50013697 0.72758943]\n",
      " [0.38522327 0.93976593 0.92480325 0.1595069  0.44173729]\n",
      " [0.48279699 0.14801561 0.06463237 0.48941455 0.41612413]\n",
      " [0.9695916  0.57268181 0.49259267 0.61553293 0.78726387]\n",
      " [0.4260549  0.15632759 0.88168782 0.83582361 0.80807441]]\n",
      "\n",
      "вариант 2\n",
      "[[8 0 0 7 7]\n",
      " [7 9 7 6 7]\n",
      " [2 2 3 7 8]\n",
      " [2 2 5 4 4]\n",
      " [5 6 9 6 5]]\n",
      "\n"
     ]
    }
   ],
   "source": [
    "# 31. Заменить максимальный элемент на 0\n",
    "\n",
    "# -----------Вариант 1.-----------\n",
    "\n",
    "# Однако, если в массиве будут повторяющиеся минимальные или максимальные элементы,\n",
    "# то присваивание 0 производиться не будет\n",
    "print('вариант 1')\n",
    "m = np.random.random([5,5])\n",
    "m.flatten()[m.argmax()] = 0\n",
    "print(m)\n",
    "print()\n",
    "\n",
    "# -----------Вариант 2.-----------\n",
    "\n",
    "# при повторяющихся минимальных элементах замена будет производиться везде (корректный вариант)\n",
    "print('вариант 2')\n",
    "m = np.random.randint(low=1, high=10, size=[5,5])\n",
    "m[np.where(m == m.min())] = 0\n",
    "print(m)\n",
    "print()"
   ]
  },
  {
   "cell_type": "code",
   "execution_count": 3,
   "metadata": {},
   "outputs": [],
   "source": [
    "# 32. Создать структурированный массив с координатами x, y на сетке в квадрате [0,1]x[0,1]\n",
    "m = np.zeros([10,10], [('x', float), ('y', float)])\n",
    "m['x'], m['y'] = np.meshgrid(np.linspace(0,1,10), np.linspace(0,1,10))"
   ]
  },
  {
   "cell_type": "code",
   "execution_count": 4,
   "metadata": {},
   "outputs": [
    {
     "name": "stdout",
     "output_type": "stream",
     "text": [
      "3638.1636371179666\n"
     ]
    }
   ],
   "source": [
    "# 33. Из двух массивов создать матрицу Коши C (Cij = 1/(xi-yj))\n",
    "\n",
    "a = np.arange(8)\n",
    "b = a + 0.5\n",
    "c = 1 / np.subtract.outer(a,b)\n",
    "print(np.linalg.det(c))"
   ]
  },
  {
   "cell_type": "code",
   "execution_count": 5,
   "metadata": {},
   "outputs": [
    {
     "name": "stdout",
     "output_type": "stream",
     "text": [
      "-128\n",
      "127\n",
      "-2147483648\n",
      "2147483647\n",
      "-9223372036854775808\n",
      "9223372036854775807\n",
      "-3.4028235e+38\n",
      "3.4028235e+38\n",
      "1.1920929e-07\n",
      "-1.7976931348623157e+308\n",
      "1.7976931348623157e+308\n",
      "2.220446049250313e-16\n"
     ]
    }
   ],
   "source": [
    "# 34. Найти минимальное и максимальное значение, принимаемое каждым числовым типом numpy\n",
    "\n",
    "for dtype in [np.int8, np.int32, np.int64]:\n",
    "   print(np.iinfo(dtype).min)\n",
    "   print(np.iinfo(dtype).max)\n",
    "for dtype in [np.float32, np.float64]:\n",
    "   print(np.finfo(dtype).min)\n",
    "   print(np.finfo(dtype).max)\n",
    "   print(np.finfo(dtype).eps)"
   ]
  },
  {
   "cell_type": "code",
   "execution_count": 6,
   "metadata": {},
   "outputs": [
    {
     "name": "stdout",
     "output_type": "stream",
     "text": [
      "[[0. 0. 0. 0. 0.]\n",
      " [0. 0. 0. 0. 0.]\n",
      " [0. 0. 0. 0. 0.]\n",
      " [0. 0. 0. 0. 0.]\n",
      " [0. 0. 0. 0. 0.]]\n"
     ]
    }
   ],
   "source": [
    "# 35. Напечатать все значения в массиве\n",
    "np.set_printoptions(threshold=np.nan)\n",
    "m = np.zeros((5, 5))\n",
    "print(m)"
   ]
  },
  {
   "cell_type": "code",
   "execution_count": 7,
   "metadata": {},
   "outputs": [
    {
     "name": "stdout",
     "output_type": "stream",
     "text": [
      "[[18 50 66 31 18]\n",
      " [ 8 42 43 24 10]\n",
      " [67 90 96  6 73]\n",
      " [45 18 83 87 51]\n",
      " [50 18 93 91 85]]\n",
      "\n",
      "вариант 1\n",
      "18\n",
      "\n",
      "вариант 2\n",
      "ближайшее(-ие) к числу approx\n",
      "[18 24]\n"
     ]
    }
   ],
   "source": [
    "# 36. Найти ближайшее к заданному значению число в заданном массиве\n",
    "\n",
    "v = np.random.randint(low=1, high=100, size=[5,5])\n",
    "print(v)\n",
    "\n",
    "# к данному числу нужно найти ближайшее число в массиве\n",
    "approx = 21\n",
    "\n",
    "# -----------Вариант 1.-----------\n",
    "# (если несколько минимальных элементов, возьмет только один)\n",
    "\n",
    "print('\\nвариант 1')\n",
    "index = (np.abs(v-approx).argmin())\n",
    "print(v.flat[index])\n",
    "\n",
    "# -----------Вариант 2.-----------\n",
    "# (учитывает несколько вариантов ближайших чисел)\n",
    "\n",
    "def find_nearest(a, aim):\n",
    "    \"\"\" функция находит индексы минимальных чисел к числу 'aim' \"\"\"\n",
    "    v = np.abs(a - aim)\n",
    "    idx = np.where(v == v.min())\n",
    "    return idx\n",
    "\n",
    "# может быть так, что несколько чисел окажутся ближайшими к числу\n",
    "# напрмер к числу 10 ближайшие 9 и 11\n",
    "print('\\nвариант 2')\n",
    "a = find_nearest(v, approx)\n",
    "print('ближайшее(-ие) к числу approx')\n",
    "print(np.unique(v[a]))"
   ]
  },
  {
   "cell_type": "code",
   "execution_count": 8,
   "metadata": {},
   "outputs": [
    {
     "name": "stdout",
     "output_type": "stream",
     "text": [
      "[((0., 0.), (0., 0., 0.)) ((0., 0.), (0., 0., 0.))\n",
      " ((0., 0.), (0., 0., 0.)) ((0., 0.), (0., 0., 0.))\n",
      " ((0., 0.), (0., 0., 0.)) ((0., 0.), (0., 0., 0.))\n",
      " ((0., 0.), (0., 0., 0.)) ((0., 0.), (0., 0., 0.))\n",
      " ((0., 0.), (0., 0., 0.)) ((0., 0.), (0., 0., 0.))]\n"
     ]
    }
   ],
   "source": [
    "# 37. Создать структурированный массив, представляющий координату (x,y) и цвет (r,g,b)\n",
    "Z = np.zeros(10, [ ('position', [('x', float, 1),\n",
    "                                 ('y', float, 1)]),\n",
    "                  ('color',    [('r', float, 1),\n",
    "                                ('g', float, 1),\n",
    "                                ('b', float, 1)])])\n",
    "print(Z)"
   ]
  },
  {
   "cell_type": "code",
   "execution_count": 9,
   "metadata": {},
   "outputs": [
    {
     "name": "stdout",
     "output_type": "stream",
     "text": [
      "массив:\n",
      "[[94 91]\n",
      " [49 35]\n",
      " [69 35]\n",
      " [90 26]\n",
      " [57  4]]\n",
      "\n",
      "вариант 1\n",
      "[[ 0.         71.84010022 61.32699243 65.12296062 94.5409964 ]\n",
      " [71.84010022  0.         20.         41.97618372 32.01562119]\n",
      " [61.32699243 20.          0.         22.84731932 33.24154028]\n",
      " [65.12296062 41.97618372 22.84731932  0.         39.66106403]\n",
      " [94.5409964  32.01562119 33.24154028 39.66106403  0.        ]]\n",
      "\n",
      "вариант 2\n",
      "[[ 0.         71.84010022 61.32699243 65.12296062 94.5409964 ]\n",
      " [71.84010022  0.         20.         41.97618372 32.01562119]\n",
      " [61.32699243 20.          0.         22.84731932 33.24154028]\n",
      " [65.12296062 41.97618372 22.84731932  0.         39.66106403]\n",
      " [94.5409964  32.01562119 33.24154028 39.66106403  0.        ]]\n"
     ]
    }
   ],
   "source": [
    "# 38. Дан массив (5,2) координат, найти расстояние от каждой до каждой точки\n",
    "\n",
    "from scipy.spatial import distance_matrix, distance\n",
    "\n",
    "m = np.random.randint(low=0, high=100, size=[5,2])\n",
    "print('массив:')\n",
    "print(m)\n",
    "\n",
    "print()\n",
    "print('вариант 1')\n",
    "dst = distance_matrix(m, m)\n",
    "print(dst)\n",
    "\n",
    "print()\n",
    "print('вариант 2')\n",
    "dst2 = distance.cdist(m,m)\n",
    "print(dst2)"
   ]
  },
  {
   "cell_type": "code",
   "execution_count": 10,
   "metadata": {},
   "outputs": [
    {
     "name": "stdout",
     "output_type": "stream",
     "text": [
      "[[49. 35.  5. 64.  8.]\n",
      " [42. 69. 44. 30. 49.]\n",
      " [10. 92. 92. 80. 80.]\n",
      " [36. 60. 46. 85. 87.]\n",
      " [82. 81.  1. 33. 32.]]\n"
     ]
    }
   ],
   "source": [
    "# 39. Преобразовать массив из int в float\n",
    "\n",
    "# создание массива целочисленных значений\n",
    "m = np.random.randint(low=1, high=100, size=[5,5])\n",
    "\n",
    "# преобразование в float\n",
    "m = m.astype('f', copy=False)\n",
    "\n",
    "print(m)"
   ]
  },
  {
   "cell_type": "code",
   "execution_count": 11,
   "metadata": {},
   "outputs": [
    {
     "name": "stdout",
     "output_type": "stream",
     "text": [
      "[[ 1.  2.  3.  4.  5.]\n",
      " [ 6. nan nan  7.  8.]\n",
      " [nan nan  9. 10. 11.]]\n"
     ]
    }
   ],
   "source": [
    "# 40. Файл лежит в папке \"file/40/file.txt\", как прочитать файл?\n",
    "v = np.genfromtxt('files/40/file.txt', delimiter=',')\n",
    "print(v)"
   ]
  },
  {
   "cell_type": "code",
   "execution_count": 12,
   "metadata": {},
   "outputs": [
    {
     "name": "stdout",
     "output_type": "stream",
     "text": [
      "(0, 0) 1\n",
      "(0, 1) 2\n",
      "(1, 0) 3\n",
      "(1, 1) 4\n"
     ]
    }
   ],
   "source": [
    "# 41. Каков эквивалент функции enumerate для numpy массивов?\n",
    "\n",
    "a = np.array([[1, 2], [3, 4]])\n",
    "for index, x in np.ndenumerate(a):\n",
    "    print(index, x)"
   ]
  },
  {
   "cell_type": "code",
   "execution_count": 13,
   "metadata": {},
   "outputs": [
    {
     "data": {
      "image/png": "[encoded data removed]",
      "text/plain": [
       "<Figure size 432x288 with 1 Axes>"
      ]
     },
     "metadata": {
      "needs_background": "light"
     },
     "output_type": "display_data"
    },
    {
     "data": {
      "image/png": "[encoded data removed]",
      "text/plain": [
       "<Figure size 432x288 with 1 Axes>"
      ]
     },
     "metadata": {},
     "output_type": "display_data"
    }
   ],
   "source": [
    "# 42. Сформировать матрицу по Гауссу\n",
    "\n",
    "from scipy.stats import norm\n",
    "\n",
    "x = np.linspace(-3,3,1000)\n",
    "y = norm.pdf(x, loc=0, scale=1)\n",
    "\n",
    "# формируем матрицу по Гауссу\n",
    "m = np.column_stack((x,y))\n",
    "\n",
    "plt.plot(m[:,0],m[:,1]);\n",
    "plt.title('Распределение по Гауссу');\n",
    "plt.show()\n",
    "# -----------дополнительно.-----------\n",
    "\n",
    "# формируем случайную матрицу, близкую к нормальному распределению\n",
    "m = np.random.randn(1000)\n",
    "\n",
    "sns.set()\n",
    "\n",
    "plt.title('Распределение по Гауссу');\n",
    "plt.hist(m,20,color='grey');\n",
    "plt.show()"
   ]
  },
  {
   "cell_type": "code",
   "execution_count": 14,
   "metadata": {},
   "outputs": [
    {
     "name": "stdout",
     "output_type": "stream",
     "text": [
      "------вариант 1------\n",
      "\n",
      "массив:\n",
      "[[18 34  3 14 26]\n",
      " [62 19 87  4 73]\n",
      " [ 1  8 35 54 36]\n",
      " [62 62 62 55 82]\n",
      " [40 98 95 30 61]]\n",
      "\n",
      "с заменой\n",
      "[[18  0  3 14 26]\n",
      " [62 19  0  0 73]\n",
      " [ 1  8 35 54  0]\n",
      " [62 62  0 55 82]\n",
      " [40 98 95 30 61]]\n",
      "\n",
      "------вариант 2------\n",
      "\n",
      "массив:\n",
      "[[80 45 90 61 24]\n",
      " [31 40 75 67 72]\n",
      " [51 68 31 33 84]\n",
      " [23 12 62 56  1]\n",
      " [79 97 32  1 96]]\n",
      "\n",
      "случайные элементы:\n",
      "[20  4 22  6  7]\n",
      "\n",
      "массив с заменой случайных элементов\n",
      "[[80 45 90 61  0]\n",
      " [31  0  0 67 72]\n",
      " [51 68 31 33 84]\n",
      " [23 12 62 56  1]\n",
      " [ 0 97  0  1 96]]\n"
     ]
    }
   ],
   "source": [
    "# 43. Случайно расположить (заменить) p элементов в 2D массив\n",
    "\n",
    "# кол-во заменяемых элементов\n",
    "p = 5\n",
    "\n",
    "# -----------Вариант 1.-----------\n",
    "\n",
    "print('------вариант 1------')\n",
    "m = np.random.randint(low=1, high=100, size=[5,5])\n",
    "print('\\nмассив:')\n",
    "print(m)\n",
    "print('\\nс заменой')\n",
    "np.put(m, np.random.choice(range(m.size), p, replace=False), 0)\n",
    "print(m)\n",
    "print()\n",
    "\n",
    "# -----------Вариант 2.-----------\n",
    "\n",
    "print('------вариант 2------')\n",
    "m2 = np.random.randint(low=1, high=100, size=[5,5])\n",
    "print('\\nмассив:')\n",
    "print(m2)\n",
    "\n",
    "# m.size ---> вычисляет кол-во элементов в массиве (аналог numel в MATLAB)\n",
    "# np.random.permutation ---> создает вектор в случайном порядке\n",
    "\n",
    "idx = np.random.permutation(m2.size)[:np.abs(p)]\n",
    "print('\\nслучайные элементы:')\n",
    "print(idx)\n",
    "\n",
    "print('\\nмассив с заменой случайных элементов')\n",
    "m2.flat[idx] = 0\n",
    "print(m2)"
   ]
  },
  {
   "cell_type": "code",
   "execution_count": 15,
   "metadata": {},
   "outputs": [
    {
     "name": "stdout",
     "output_type": "stream",
     "text": [
      "массив:\n",
      "[[19 56 22]\n",
      " [ 8 85 19]\n",
      " [19 39 42]]\n",
      "\n",
      "средние значения каждой строки матрицы\n",
      "[32.33333333 37.33333333 33.33333333]\n",
      "\n",
      "вычитание из матрицы средних значений\n",
      "[[-13.33333333  23.66666667 -10.33333333]\n",
      " [-29.33333333  47.66666667 -18.33333333]\n",
      " [-14.33333333   5.66666667   8.66666667]]\n"
     ]
    }
   ],
   "source": [
    "# 44. Отнять среднее из каждой строки в матрице\n",
    "\n",
    "m = np.random.randint(low=1, high=100, size=[3,3])\n",
    "print('массив:')\n",
    "print(m)\n",
    "print()\n",
    "print('средние значения каждой строки матрицы')\n",
    "print(m.mean(axis=1))\n",
    "\n",
    "# keepdims ---> сохранить размерность исходного массива\n",
    "\n",
    "print()\n",
    "print('вычитание из матрицы средних значений')\n",
    "m = m - m.mean(axis=1, keepdims=True)\n",
    "\n",
    "print(m)"
   ]
  },
  {
   "cell_type": "code",
   "execution_count": 16,
   "metadata": {},
   "outputs": [
    {
     "name": "stdout",
     "output_type": "stream",
     "text": [
      "массив:\n",
      "[[14 77 12 35  2]\n",
      " [45 31 31  9 10]\n",
      " [82  3 19  9 24]\n",
      " [87  7 84 22 91]\n",
      " [43  4 37 81 71]]\n",
      "\n",
      "сортированный массив по n-ому столбцу\n",
      "[[14 77 12 35  2]\n",
      " [82  3 19  9 24]\n",
      " [45 31 31  9 10]\n",
      " [43  4 37 81 71]\n",
      " [87  7 84 22 91]]\n",
      "\n"
     ]
    }
   ],
   "source": [
    "# 45. Отсортировать матрицу по n-ому столбцу\n",
    "\n",
    "n = 2\n",
    "\n",
    "m = np.random.randint(low=1, high=100, size=[5,5])\n",
    "print('массив:')\n",
    "print(m)\n",
    "print()\n",
    "print('сортированный массив по n-ому столбцу')\n",
    "print(m[m[:,n].argsort()])\n",
    "print()"
   ]
  },
  {
   "cell_type": "code",
   "execution_count": 17,
   "metadata": {},
   "outputs": [
    {
     "name": "stdout",
     "output_type": "stream",
     "text": [
      "\n",
      "------вариант 1------\n",
      "\n",
      "[[1 1 0 0 0 1 1 1 0 1]\n",
      " [1 0 0 1 1 0 0 0 0 0]]\n",
      "\n",
      "True\n",
      "\n",
      "------вариант 2------\n",
      "\n",
      "Имеются нулевые столбцы: [2 8]\n",
      "\n",
      "[[1 1 0 0 0 1 1 1 0 1]\n",
      " [1 0 0 1 1 0 0 0 0 0]]\n"
     ]
    }
   ],
   "source": [
    "# 46. Определить, есть ли в 2D массиве нулевые столбцы\n",
    "\n",
    "m = np.random.randint(low=0, high=2, size=[2,10])\n",
    "\n",
    "# -----------Вариант 1.-----------\n",
    "# (возвращает булево значение)\n",
    "\n",
    "print('\\n------вариант 1------')\n",
    "print()\n",
    "print(m)\n",
    "print()\n",
    "print((~m.any(axis=0)).any())\n",
    "\n",
    "# -----------Вариант 2.-----------\n",
    "# (возвращает индексы колонок, решение через сумму)\n",
    "print('\\n------вариант 2------')\n",
    "print()\n",
    "null_columns = np.where(np.sum(a=m, axis=0) == 0)\n",
    "\n",
    "if null_columns[0].size > 0:\n",
    "    print('Имеются нулевые столбцы:', null_columns[0])\n",
    "else:\n",
    "    print('Нулевых столбцов нет')\n",
    "    \n",
    "print()    \n",
    "print(m)"
   ]
  },
  {
   "cell_type": "code",
   "execution_count": 18,
   "metadata": {},
   "outputs": [
    {
     "name": "stdout",
     "output_type": "stream",
     "text": [
      "[[1. 1. 3. 3. 1.]\n",
      " [1. 3. 2. 3. 1.]\n",
      " [2. 1. 2. 1. 1.]\n",
      " [1. 2. 2. 3. 2.]\n",
      " [3. 1. 1. 2. 2.]]\n"
     ]
    }
   ],
   "source": [
    "# 47. Дан массив, добавить 1 к каждому элементу с индексом, заданным в другом массиве\n",
    "# осторожно с повторами (их необходимо суммировать)\n",
    "\n",
    "# функция bincount ---> мощная вещь (считает кол-во вхождений в массив)\n",
    "# нужна корректная работа как с одномерными так и с многомерными массивами\n",
    "# если в матрице 'a' имеются повторы, то необходимо эти повторы суммировать\n",
    "\n",
    "b = np.ones([5,5])\n",
    "sh = b.shape\n",
    "\n",
    "b = b.flatten()\n",
    "a = np.random.randint(low=0, high=b.size, size=20)\n",
    "\n",
    "b += np.bincount(a, minlength=b.size)\n",
    "b = b.reshape(sh)\n",
    "\n",
    "print(b)"
   ]
  },
  {
   "cell_type": "code",
   "execution_count": 19,
   "metadata": {},
   "outputs": [
    {
     "name": "stdout",
     "output_type": "stream",
     "text": [
      "[[2. 1. 2. 1. 1.]\n",
      " [1. 2. 1. 1. 2.]\n",
      " [2. 1. 1. 1. 1.]\n",
      " [2. 2. 1. 1. 1.]\n",
      " [1. 1. 1. 1. 1.]]\n"
     ]
    }
   ],
   "source": [
    "# 47.1 Дан массив, добавить 1 к каждому элементу с индексом, заданным в другом массиве\n",
    "# осторожно с повторами (суммировать не нужно)\n",
    "\n",
    "b = np.ones([5, 5])\n",
    "\n",
    "a = np.random.randint(low=0, high=b.size, size=[10])\n",
    "\n",
    "b.flat[a] += 1\n",
    "\n",
    "print(b)\n"
   ]
  },
  {
   "cell_type": "code",
   "execution_count": 20,
   "metadata": {},
   "outputs": [
    {
     "name": "stdout",
     "output_type": "stream",
     "text": [
      "[0 1]\n"
     ]
    }
   ],
   "source": [
    "# 48. Дан массив (w,h,3) (картинка) dtype=ubyte, посчитать количество различных цветов\n",
    "\n",
    "w,h = 16,16\n",
    "I = np.random.randint(0, 2, (h,w,3)).astype(np.ubyte)\n",
    "F = I[...,0] * 256 * 256 + I[...,1] * 256 + I[...,2]\n",
    "n = len(np.unique(F))\n",
    "print(np.unique(I))"
   ]
  },
  {
   "cell_type": "code",
   "execution_count": 21,
   "metadata": {},
   "outputs": [
    {
     "name": "stdout",
     "output_type": "stream",
     "text": [
      "[[44 51 46 39]\n",
      " [48 72 60 59]\n",
      " [54 35 53 67]]\n"
     ]
    }
   ],
   "source": [
    "# 49. Дан четырехмерный массив, посчитать сумму по последним двум осям\n",
    "\n",
    "A = np.random.randint(0,10, (3,4,3,4))\n",
    "sum = A.reshape(A.shape[:-2] + (-1,)).sum(axis=-1)\n",
    "print(sum)"
   ]
  },
  {
   "cell_type": "code",
   "execution_count": 22,
   "metadata": {},
   "outputs": [
    {
     "name": "stdout",
     "output_type": "stream",
     "text": [
      "вариант 1\n",
      "[19 50]\n",
      "\n",
      "[[19 22]\n",
      " [43 50]]\n",
      "вариант 2\n",
      "[19 50]\n"
     ]
    }
   ],
   "source": [
    "# 50. Найти диагональные элементы произведения матриц\n",
    "\n",
    "a = np.array([[1,2], [3,4]])\n",
    "b = np.array([[5,6], [7,8]])\n",
    "\n",
    "# -----------Вариант 1.-----------\n",
    "# (медленный вариант)\n",
    "print('вариант 1')\n",
    "print(np.diag(np.dot(a, b)))\n",
    "print()\n",
    "\n",
    "print(np.dot(a,b))\n",
    "\n",
    "# -----------Вариант 2.-----------\n",
    "# (быстрый вариант)\n",
    "print('вариант 2')\n",
    "print(np.sum(a*b.T, axis=1))"
   ]
  },
  {
   "cell_type": "code",
   "execution_count": 23,
   "metadata": {},
   "outputs": [
    {
     "name": "stdout",
     "output_type": "stream",
     "text": [
      "[1. 0. 0. 0. 2. 0. 0. 0. 3. 0. 0. 0. 4. 0. 0. 0. 5.]\n"
     ]
    }
   ],
   "source": [
    "# 51. Дан вектор [1, 2, 3, 4, 5], построить новый вектор с тремя нулями между каждым значением\n",
    "\n",
    "v = np.arange(start=1, stop=6)\n",
    "every = 3\n",
    "v2 = np.zeros(len(v) + (len(v)-1)*(every))\n",
    "v2[::every+1] = v\n",
    "\n",
    "print(v2)"
   ]
  },
  {
   "cell_type": "code",
   "execution_count": 24,
   "metadata": {},
   "outputs": [
    {
     "name": "stdout",
     "output_type": "stream",
     "text": [
      "[[ 0  1  2  3  4]\n",
      " [ 5  6  7  8  9]\n",
      " [10 11 12 13 14]\n",
      " [15 16 17 18 19]\n",
      " [20 21 22 23 24]]\n",
      "\n",
      "случайно выбранные строки:2,0\n",
      "\n",
      "[[10 11 12 13 14]\n",
      " [ 5  6  7  8  9]\n",
      " [ 0  1  2  3  4]\n",
      " [15 16 17 18 19]\n",
      " [20 21 22 23 24]]\n"
     ]
    }
   ],
   "source": [
    "# 52. Поменять две случайные строки в матрице\n",
    "\n",
    "# формирование матрицы\n",
    "m = np.arange(25).reshape(5,5)\n",
    "print(m)\n",
    "\n",
    "# случайно отбираем две строки в матрице\n",
    "r = np.random.choice(range(m.shape[0]), 2, replace=False)\n",
    "\n",
    "# присвоение переменным\n",
    "r1, r2 = r[0], r[1]\n",
    "\n",
    "print()\n",
    "print('случайно выбранные строки:' + str(r1) + ',' + str(r2))\n",
    "print()\n",
    "\n",
    "m[[r1,r2]] = m[[r2,r1]]\n",
    "print(m)"
   ]
  },
  {
   "cell_type": "code",
   "execution_count": 25,
   "metadata": {},
   "outputs": [
    {
     "name": "stdout",
     "output_type": "stream",
     "text": [
      "[[ 2 12  9]\n",
      " [ 8  9  9]\n",
      " [14 10  1]]\n",
      "\n",
      "True\n"
     ]
    }
   ],
   "source": [
    "# 53. Вычислить имеются ли в массиве какие-либо значения превышающие 13?\n",
    "\n",
    "m = np.random.randint(low=1, high=15, size=[3,3])\n",
    "print(m)\n",
    "print()\n",
    "print(np.any(m > 13))"
   ]
  },
  {
   "cell_type": "code",
   "execution_count": 26,
   "metadata": {},
   "outputs": [
    {
     "name": "stdout",
     "output_type": "stream",
     "text": [
      "сортировка по столбцам\n",
      "[[2 1 4 0 1 5]\n",
      " [5 2 5 4 3 7]\n",
      " [6 3 7 4 6 7]\n",
      " [7 6 7 4 9 9]]\n",
      "сортировка по строкам\n",
      "[[3 4 6 6 7 9]\n",
      " [2 3 4 6 7 7]\n",
      " [1 2 4 5 7 7]\n",
      " [0 1 4 5 5 9]]\n"
     ]
    }
   ],
   "source": [
    "# 54. Сортировать массив по строкам и стобцам\n",
    "\n",
    "rand = np.random.RandomState(42)\n",
    "\n",
    "m = rand.randint(0, 10, [4,6])\n",
    "\n",
    "# сортируем по столбцам\n",
    "print('сортировка по столбцам')\n",
    "m1 = np.sort(m, axis=0)\n",
    "print(m1)\n",
    "\n",
    "# сортируем по строкам\n",
    "print('сортировка по строкам')\n",
    "m2 = np.sort(m, axis=1)\n",
    "print(m2)"
   ]
  },
  {
   "cell_type": "code",
   "execution_count": 27,
   "metadata": {},
   "outputs": [
    {
     "name": "stdout",
     "output_type": "stream",
     "text": [
      "[('name', '<U10'), ('age', '<i4'), ('weight', '<f8')]\n"
     ]
    }
   ],
   "source": [
    "# 55. Создать структурированный массив\n",
    "\n",
    "s = np.dtype({'names': ('name', 'age', 'weight'),\n",
    "         'formats': ('U10', 'i4', 'f8')})\n",
    "\n",
    "print(s)"
   ]
  },
  {
   "cell_type": "code",
   "execution_count": 28,
   "metadata": {},
   "outputs": [
    {
     "name": "stdout",
     "output_type": "stream",
     "text": [
      "3\n"
     ]
    }
   ],
   "source": [
    "# 56. Вычислить ранг матрицы\n",
    "\n",
    "m = np.random.randint(low=1, high=100, size=[3,3])\n",
    "rank = np.linalg.matrix_rank(m)\n",
    "print(rank)"
   ]
  },
  {
   "cell_type": "code",
   "execution_count": 29,
   "metadata": {},
   "outputs": [
    {
     "name": "stdout",
     "output_type": "stream",
     "text": [
      "[[7 2 8]\n",
      " [8 9 1]]\n",
      "\n",
      "n наибольших значений в массиве\n",
      "[9 8 7]\n"
     ]
    }
   ],
   "source": [
    "# 57. Найти n наибольших уникальных значений в массиве\n",
    "\n",
    "n = 3\n",
    "\n",
    "m = np.random.randint(low=1, high=10, size=[2,3])\n",
    "print(m)\n",
    "\n",
    "# тяжелый варант (стоит найти легче)\n",
    "print()\n",
    "print('n наибольших значений в массиве')\n",
    "print(np.unique((np.sort(m.flat)))[::-1][:n])"
   ]
  },
  {
   "cell_type": "code",
   "execution_count": 30,
   "metadata": {},
   "outputs": [
    {
     "name": "stdout",
     "output_type": "stream",
     "text": [
      "(3, 5)\n"
     ]
    }
   ],
   "source": [
    "# 58. Узнать размерность матрицы\n",
    "\n",
    "m = np.random.randint(low=1, high=10, size=[3,5])\n",
    "print(m.shape)"
   ]
  },
  {
   "cell_type": "code",
   "execution_count": 31,
   "metadata": {},
   "outputs": [
    {
     "name": "stdout",
     "output_type": "stream",
     "text": [
      "[[3 0 1 4 2]\n",
      " [3 0 1 4 2]\n",
      " [2 4 3 0 1]\n",
      " [3 4 0 2 1]\n",
      " [4 2 3 0 1]]\n"
     ]
    },
    {
     "data": {
      "image/png": "[encoded data removed]",
      "text/plain": [
       "<Figure size 432x288 with 1 Axes>"
      ]
     },
     "metadata": {},
     "output_type": "display_data"
    }
   ],
   "source": [
    "# 59. Написать алгоритм поиска ближайших соседей\n",
    "\n",
    "rand = np.random.RandomState(6)\n",
    "\n",
    "K=2\n",
    "r = rand.rand(5,2)\n",
    "\n",
    "# вычислений матрицы дистанций\n",
    "dist_sq = np.sum((r[:, np.newaxis,:] - r[np.newaxis,:,:])**2, axis=-1)\n",
    "\n",
    "# выводим ближайших соседей\n",
    "nearest = np.argpartition(dist_sq, K+1, axis=1)\n",
    "\n",
    "# визуализация\n",
    "plt.scatter(r[:,0], r[:,1], s=50)\n",
    "for i in range(r.shape[0]):\n",
    "    for j in nearest[i, :K+1]:\n",
    "        # отображение линий от r[i] до r[j]\n",
    "        plt.plot(*zip(r[j], r[i]), color='r')\n",
    "\n",
    "print(nearest)"
   ]
  },
  {
   "cell_type": "code",
   "execution_count": 32,
   "metadata": {},
   "outputs": [],
   "source": [
    "# 60. Написать алгоритм игры \"жизнь\"\n",
    "\n",
    "def iterate(m):\n",
    "    \n",
    "    # кол-во соседей\n",
    "    N = (m[0:-2,0:-2] + m[0:-2,1:-1] + m[0:-2,2:] +\n",
    "         m[1:-1,0:-2]                + m[1:-1,2:] +\n",
    "         m[2:  ,0:-2] + m[2:  ,1:-1] + m[2:  ,2:])\n",
    "\n",
    "    # правила\n",
    "    birth = (N == 3) & (m[1:-1,1:-1]==0)\n",
    "    survive = ((N == 2) | (N == 3)) & (m[1:-1,1:-1] == 1)\n",
    "    m[...] = 0\n",
    "    m[1:-1,1:-1][birth | survive] = 1\n",
    "    return m\n",
    "\n",
    "m = np.random.randint(0,2,(10,10))\n",
    "\n",
    "for i in range(10):\n",
    "    m = iterate(m)\n",
    "#     print(m)"
   ]
  }
 ],
 "metadata": {
  "kernelspec": {
   "display_name": "Python 3",
   "language": "python",
   "name": "python3"
  },
  "language_info": {
   "codemirror_mode": {
    "name": "ipython",
    "version": 3
   },
   "file_extension": ".py",
   "mimetype": "text/x-python",
   "name": "python",
   "nbconvert_exporter": "python",
   "pygments_lexer": "ipython3",
   "version": "3.6.3"
  }
 },
 "nbformat": 4,
 "nbformat_minor": 2
}
