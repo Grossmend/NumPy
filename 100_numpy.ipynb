{
 "cells": [
  {
   "cell_type": "code",
   "execution_count": 3,
   "metadata": {},
   "outputs": [],
   "source": [
    "# Импортируем модули\n",
    "import matplotlib.pyplot as plt\n",
    "import seaborn as sns"
   ]
  },
  {
   "cell_type": "code",
   "execution_count": 4,
   "metadata": {},
   "outputs": [],
   "source": [
    "# 1. Импортировать NumPy\n",
    "import numpy as np"
   ]
  },
  {
   "cell_type": "code",
   "execution_count": 5,
   "metadata": {},
   "outputs": [
    {
     "name": "stdout",
     "output_type": "stream",
     "text": [
      "1.15.3\n"
     ]
    }
   ],
   "source": [
    "# 2. Напечатать версию и конфигурацию\n",
    "print(np.__version__)"
   ]
  },
  {
   "cell_type": "code",
   "execution_count": 6,
   "metadata": {},
   "outputs": [
    {
     "data": {
      "text/plain": [
       "array([0., 0., 0., 0., 0., 0., 0., 0., 0., 0.])"
      ]
     },
     "execution_count": 6,
     "metadata": {},
     "output_type": "execute_result"
    }
   ],
   "source": [
    "# 3. Создать вектор (одномерный массив) размера 10, заполненый нулями\n",
    "np.zeros([10])"
   ]
  },
  {
   "cell_type": "code",
   "execution_count": 7,
   "metadata": {},
   "outputs": [
    {
     "data": {
      "text/plain": [
       "array([1., 1., 1., 1., 1., 1., 1., 1., 1., 1.])"
      ]
     },
     "execution_count": 7,
     "metadata": {},
     "output_type": "execute_result"
    }
   ],
   "source": [
    "# 4. Создать вектор размер 10, заполненный единицами\n",
    "np.ones([10])"
   ]
  },
  {
   "cell_type": "code",
   "execution_count": 8,
   "metadata": {},
   "outputs": [
    {
     "data": {
      "text/plain": [
       "array([2.5, 2.5, 2.5, 2.5, 2.5, 2.5, 2.5, 2.5, 2.5, 2.5])"
      ]
     },
     "execution_count": 8,
     "metadata": {},
     "output_type": "execute_result"
    }
   ],
   "source": [
    "# 5. Создать вектор размера 10, заполненный числом 2.5\n",
    "np.full([10], 2.5)"
   ]
  },
  {
   "cell_type": "code",
   "execution_count": 36,
   "metadata": {},
   "outputs": [],
   "source": [
    "# 6. Получить документацию о функции numpy.add из командной строки\n",
    "help (np.add)"
   ]
  },
  {
   "cell_type": "code",
   "execution_count": 10,
   "metadata": {},
   "outputs": [
    {
     "data": {
      "text/plain": [
       "array([0., 0., 0., 0., 1., 0., 0., 0., 0., 0.])"
      ]
     },
     "execution_count": 10,
     "metadata": {},
     "output_type": "execute_result"
    }
   ],
   "source": [
    "# 7. Создать вектор заполненный нулями, но пятый элемент равен 1\n",
    "v = np.zeros([10])\n",
    "v[4] = 1\n",
    "v"
   ]
  },
  {
   "cell_type": "code",
   "execution_count": 11,
   "metadata": {},
   "outputs": [
    {
     "data": {
      "text/plain": [
       "array([10, 11, 12, 13, 14, 15, 16, 17, 18, 19, 20, 21, 22, 23, 24, 25, 26,\n",
       "       27, 28, 29, 30, 31, 32, 33, 34, 35, 36, 37, 38, 39, 40, 41, 42, 43,\n",
       "       44, 45, 46, 47, 48, 49])"
      ]
     },
     "execution_count": 11,
     "metadata": {},
     "output_type": "execute_result"
    }
   ],
   "source": [
    "# 8. Создать вектор со значениями от 10 до 49\n",
    "v = np.arange(start=10,stop=50)\n",
    "v"
   ]
  },
  {
   "cell_type": "code",
   "execution_count": 12,
   "metadata": {},
   "outputs": [
    {
     "name": "stdout",
     "output_type": "stream",
     "text": [
      "вариант 1\n",
      "[10  9  8  7  6  5  4  3  2  1]\n",
      "\n",
      "вариант 2\n",
      "[10  9  8  7  6  5  4  3  2  1]\n"
     ]
    }
   ],
   "source": [
    "# 9. Развернуть вектор (первый становится последним)\n",
    "v = np.arange(start=1, stop=11)\n",
    "print('вариант 1')\n",
    "v1 = v[::-1]\n",
    "print(v1)\n",
    "\n",
    "print()\n",
    "print('вариант 2')\n",
    "v2 = np.flip(v, 0)\n",
    "print(v2)"
   ]
  },
  {
   "cell_type": "code",
   "execution_count": 13,
   "metadata": {},
   "outputs": [
    {
     "data": {
      "text/plain": [
       "array([[0, 1, 2],\n",
       "       [3, 4, 5],\n",
       "       [6, 7, 8]])"
      ]
     },
     "execution_count": 13,
     "metadata": {},
     "output_type": "execute_result"
    }
   ],
   "source": [
    "# 10. Создать матрицу (двумерный массив) 3x3 со значениями от 0 до 8\n",
    "m = np.arange(0,9).reshape(3,3)\n",
    "np.reshape\n",
    "m"
   ]
  },
  {
   "cell_type": "code",
   "execution_count": 14,
   "metadata": {},
   "outputs": [
    {
     "name": "stdout",
     "output_type": "stream",
     "text": [
      "вариант 1\n",
      "(array([0, 1, 4], dtype=int32),)\n",
      "\n",
      "вариант 2\n",
      "(array([0, 1, 4], dtype=int32),)\n"
     ]
    }
   ],
   "source": [
    "# 11. Найти индексы ненулевых элементов в [1,2,0,0,4,0]\n",
    "\n",
    "# -----------вариант 1.-----------\n",
    "print('вариант 1')\n",
    "print(np.nonzero([1,2,0,0,4,0]))\n",
    "print()\n",
    "\n",
    "# -----------вариант 2.-----------\n",
    "print('вариант 2')\n",
    "v = np.array([1,2,0,0,4,0])\n",
    "print(np.where(v != 0))"
   ]
  },
  {
   "cell_type": "code",
   "execution_count": 15,
   "metadata": {},
   "outputs": [
    {
     "data": {
      "text/plain": [
       "array([[1., 0., 0.],\n",
       "       [0., 1., 0.],\n",
       "       [0., 0., 1.]])"
      ]
     },
     "execution_count": 15,
     "metadata": {},
     "output_type": "execute_result"
    }
   ],
   "source": [
    "# 12. Создать единичную матрицу 3x3\n",
    "np.eye(3)"
   ]
  },
  {
   "cell_type": "code",
   "execution_count": 16,
   "metadata": {},
   "outputs": [
    {
     "data": {
      "text/plain": [
       "array([[[0.37877361, 0.55761294, 0.06032324],\n",
       "        [0.92056379, 0.88236701, 0.17226731],\n",
       "        [0.85484885, 0.37571142, 0.86391618]],\n",
       "\n",
       "       [[0.15907247, 0.57973461, 0.44223045],\n",
       "        [0.1451446 , 0.43677674, 0.61322786],\n",
       "        [0.65957091, 0.46381581, 0.43994104]],\n",
       "\n",
       "       [[0.77740129, 0.98759181, 0.53854951],\n",
       "        [0.81312415, 0.92470366, 0.60148993],\n",
       "        [0.98249316, 0.67161764, 0.17134517]]])"
      ]
     },
     "execution_count": 16,
     "metadata": {},
     "output_type": "execute_result"
    }
   ],
   "source": [
    "# 13. Создать массив 3x3x3 со случайными значениями\n",
    "np.random.random([3,3,3])"
   ]
  },
  {
   "cell_type": "code",
   "execution_count": 17,
   "metadata": {
    "slideshow": {
     "slide_type": "-"
    }
   },
   "outputs": [
    {
     "name": "stdout",
     "output_type": "stream",
     "text": [
      "варинат 1\n",
      "0.023249655759438492 0.9859804667601769\n",
      "\n",
      "вариант 2\n",
      "0.023249655759438492\n",
      "0.9859804667601769\n"
     ]
    }
   ],
   "source": [
    "# 14. Создать массив 10x10 со случайными значениями, найти минимум и максимум\n",
    "m = np.random.random([10,10])\n",
    "\n",
    "# -----------вариант 1.-----------\n",
    "max_var1, max_var2 = m.min(), m.max()\n",
    "print('варинат 1')\n",
    "print(max_var1, max_var2)\n",
    "print()\n",
    "\n",
    "# -----------вариант 2.-----------\n",
    "print('вариант 2')\n",
    "min_var2 = np.min(m)\n",
    "max_var2 = np.max(m)\n",
    "print(min_var2)\n",
    "print(max_var2)"
   ]
  },
  {
   "cell_type": "code",
   "execution_count": 18,
   "metadata": {},
   "outputs": [
    {
     "data": {
      "text/plain": [
       "0.5202549578868475"
      ]
     },
     "execution_count": 18,
     "metadata": {},
     "output_type": "execute_result"
    }
   ],
   "source": [
    "# 15. Создать случайный вектор размера 30 и найти среднее значение всех элементов\n",
    "v = np.random.random([30])\n",
    "v.mean()"
   ]
  },
  {
   "cell_type": "code",
   "execution_count": 19,
   "metadata": {},
   "outputs": [
    {
     "data": {
      "text/plain": [
       "array([[1., 1., 1., 1., 1., 1., 1., 1., 1., 1.],\n",
       "       [1., 0., 0., 0., 0., 0., 0., 0., 0., 1.],\n",
       "       [1., 0., 0., 0., 0., 0., 0., 0., 0., 1.],\n",
       "       [1., 0., 0., 0., 0., 0., 0., 0., 0., 1.],\n",
       "       [1., 0., 0., 0., 0., 0., 0., 0., 0., 1.],\n",
       "       [1., 0., 0., 0., 0., 0., 0., 0., 0., 1.],\n",
       "       [1., 0., 0., 0., 0., 0., 0., 0., 0., 1.],\n",
       "       [1., 0., 0., 0., 0., 0., 0., 0., 0., 1.],\n",
       "       [1., 0., 0., 0., 0., 0., 0., 0., 0., 1.],\n",
       "       [1., 1., 1., 1., 1., 1., 1., 1., 1., 1.]])"
      ]
     },
     "execution_count": 19,
     "metadata": {},
     "output_type": "execute_result"
    }
   ],
   "source": [
    "# 16. Создать матрицу с 0 внутри и 1 на границах\n",
    "\n",
    "# -----------вариант 1.-----------\n",
    "m = np.ones([10,10])\n",
    "m[1:-1, 1:-1] = 0\n",
    "m"
   ]
  },
  {
   "cell_type": "code",
   "execution_count": 20,
   "metadata": {},
   "outputs": [
    {
     "name": "stdout",
     "output_type": "stream",
     "text": [
      "nan\n",
      "False\n",
      "False\n",
      "nan\n",
      "False\n"
     ]
    }
   ],
   "source": [
    "# 17. Выяснить результат следующих выражений\n",
    "print(0 * np.nan)\n",
    "print(np.nan == np.nan)\n",
    "print(np.inf > np.nan)\n",
    "print(np.nan - np.nan)\n",
    "print(0.3 == 3 * 0.1)"
   ]
  },
  {
   "cell_type": "code",
   "execution_count": 21,
   "metadata": {},
   "outputs": [
    {
     "name": "stdout",
     "output_type": "stream",
     "text": [
      "\n",
      "Вариант 1\n",
      "[[0 0 0 0 0]\n",
      " [1 0 0 0 0]\n",
      " [0 2 0 0 0]\n",
      " [0 0 3 0 0]\n",
      " [0 0 0 4 0]]\n",
      "\n",
      "Вариант 2\n",
      "[[0 1 0 0 0]\n",
      " [1 0 2 0 0]\n",
      " [0 2 0 3 0]\n",
      " [0 0 3 0 4]\n",
      " [0 0 0 4 0]]\n",
      "\n",
      "Вариант 3\n",
      "[[0 1 0 0 0]\n",
      " [1 0 2 0 0]\n",
      " [0 2 0 3 0]\n",
      " [0 0 3 0 4]\n",
      " [0 0 0 4 0]]\n"
     ]
    }
   ],
   "source": [
    "# 18. Создать 5x5 матрицу с 1,2,3,4 под диагональю\n",
    "\n",
    "# -----------Вариант 1.-----------\n",
    "# Решение в интернете, но я хотел чтобы было добавление с двух сторон k-+1\n",
    "# и была возможность добавления на существующую матрицу\n",
    "\n",
    "m = np.diag(np.arange(1, 5), k=-1)\n",
    "\n",
    "print()\n",
    "print('Вариант 1')\n",
    "print(m)\n",
    "\n",
    "# -----------Вариант 2.-----------\n",
    "# Тяжелый и неправильный вариант. Созданы 4 лишних переменные.\n",
    "\n",
    "# m = np.arange(1, 26).reshape([5,5])\n",
    "m = np.zeros([5,5], dtype='i')\n",
    "\n",
    "# создаем доп. матрицы с нужными диагоналями\n",
    "d1 = np.diag(np.arange(1, m.shape[0]), k=-1)\n",
    "d2 = np.diag(np.arange(1, m.shape[0]), k=1)\n",
    "\n",
    "# получаем индексы, которые удовлетворяют условию\n",
    "ind1 = np.where(d1>0)\n",
    "ind2 = np.where(d2>0)\n",
    "\n",
    "# присвоение значений по индексам\n",
    "diag_vec = np.arange(start=1, stop=5, dtype='i')\n",
    "m[ind1] = diag_vec\n",
    "m[ind2] = diag_vec\n",
    "\n",
    "print()\n",
    "print('Вариант 2')\n",
    "print(m)\n",
    "\n",
    "# -----------Вариант 3.-----------\n",
    "# Легкий варинат без создания дополнительной матрицы\n",
    "\n",
    "# определим функцию, которая возвращает индексы в зависимсоти от смещения (k) матрицы (m)\n",
    "\n",
    "def diag_indices_k(m, k):\n",
    "    \n",
    "    \"\"\" функция возвращает индексы диагональных элементов матрицы (m) со смещением (k) \"\"\"\n",
    "    \n",
    "    rows, cols = np.diag_indices_from(m)\n",
    "    if k < 0:\n",
    "        return rows[-k:], cols[:k]\n",
    "    elif k > 0:\n",
    "        return rows[:-k], cols[k:]\n",
    "    else:\n",
    "        return rows, cols\n",
    "\n",
    "# создаем матрицу (m)\n",
    "\n",
    "# m = np.arange(1, 26).reshape([5,5])\n",
    "m = np.zeros([5,5], dtype='i')\n",
    "\n",
    "# проставляем со смещением диагональные значения\n",
    "diag_vec = np.arange(start=1, stop=5, dtype='i')\n",
    "m[diag_indices_k(m, -1)] = diag_vec\n",
    "m[diag_indices_k(m, 1)] = diag_vec\n",
    "\n",
    "print()\n",
    "print('Вариант 3')\n",
    "print(m)\n"
   ]
  },
  {
   "cell_type": "code",
   "execution_count": 22,
   "metadata": {},
   "outputs": [
    {
     "data": {
      "text/plain": [
       "array([[1., 0., 1., 0., 1., 0., 1., 0.],\n",
       "       [0., 1., 0., 1., 0., 1., 0., 1.],\n",
       "       [1., 0., 1., 0., 1., 0., 1., 0.],\n",
       "       [0., 1., 0., 1., 0., 1., 0., 1.],\n",
       "       [1., 0., 1., 0., 1., 0., 1., 0.],\n",
       "       [0., 1., 0., 1., 0., 1., 0., 1.],\n",
       "       [1., 0., 1., 0., 1., 0., 1., 0.],\n",
       "       [0., 1., 0., 1., 0., 1., 0., 1.]])"
      ]
     },
     "execution_count": 22,
     "metadata": {},
     "output_type": "execute_result"
    }
   ],
   "source": [
    "# 19. Создать матрицу 8x8 и заполнить ее в шахматном порядке\n",
    "m = np.zeros([8,8])\n",
    "m[::2, ::2] = 1\n",
    "m[1::2, 1::2] = 1\n",
    "m"
   ]
  },
  {
   "cell_type": "code",
   "execution_count": 23,
   "metadata": {},
   "outputs": [
    {
     "name": "stdout",
     "output_type": "stream",
     "text": [
      "(1, 5, 4)\n"
     ]
    }
   ],
   "source": [
    "# 20. Дан массив размерности (6,7,8). Каков индекс (x,y,z) сотого элемента?\n",
    "print(np.unravel_index(100, (6,7,8)))"
   ]
  },
  {
   "cell_type": "code",
   "execution_count": 24,
   "metadata": {},
   "outputs": [
    {
     "name": "stdout",
     "output_type": "stream",
     "text": [
      "вариант 1\n",
      "[[1 0 1 0 1 0 1 0]\n",
      " [0 1 0 1 0 1 0 1]\n",
      " [1 0 1 0 1 0 1 0]\n",
      " [0 1 0 1 0 1 0 1]\n",
      " [1 0 1 0 1 0 1 0]\n",
      " [0 1 0 1 0 1 0 1]\n",
      " [1 0 1 0 1 0 1 0]\n",
      " [0 1 0 1 0 1 0 1]]\n",
      "\n",
      "\n",
      "вариант 2\n",
      "[[1 0 1 0 1 0 1 0]\n",
      " [0 1 0 1 0 1 0 1]\n",
      " [1 0 1 0 1 0 1 0]\n",
      " [0 1 0 1 0 1 0 1]\n",
      " [1 0 1 0 1 0 1 0]\n",
      " [0 1 0 1 0 1 0 1]\n",
      " [1 0 1 0 1 0 1 0]\n",
      " [0 1 0 1 0 1 0 1]]\n",
      "\n",
      "True\n"
     ]
    }
   ],
   "source": [
    "# 21. Создать матрицу 8x8 и заполнить ее в шахматном порядке, используя функцию tile\n",
    "\n",
    "# -----------Вариант 1.-----------\n",
    "m1 = np.tile(A=np.array([[1,0], [0,1]]), reps=[4,4])\n",
    "print('вариант 1')\n",
    "print(m1)\n",
    "print()\n",
    "# -----------Вариант 2 (первое что пришло в голову).-----------\n",
    "\n",
    "# тяжелый вариант\n",
    "begin = np.array([0,1])\n",
    "m2 = np.tile(begin, [8,5])\n",
    "\n",
    "# m2 = np.arange(start=1, stop=65).reshape(8,8)\n",
    "# print(m)\n",
    "\n",
    "m2[::2,0:-1] = m2[::2,1:]\n",
    "m2 = m2[:,:-2]\n",
    "\n",
    "print()\n",
    "print('вариант 2')\n",
    "print(m2)\n",
    "\n",
    "# проверка на равенство двух матриц\n",
    "print()\n",
    "print(np.array_equal(m1, m2))\n"
   ]
  },
  {
   "cell_type": "code",
   "execution_count": 25,
   "metadata": {},
   "outputs": [
    {
     "name": "stdout",
     "output_type": "stream",
     "text": [
      "[[1.00911952 0.97536161]\n",
      " [1.02473288 1.22481833]\n",
      " [0.4693583  0.90427129]\n",
      " [1.04201035 1.28706556]\n",
      " [0.73534946 0.65489251]]\n"
     ]
    }
   ],
   "source": [
    "# 22. Перемножить матрицы 5x3 и 3x2\n",
    "\n",
    "a = np.random.random([5,3])\n",
    "b = np.random.random([3,2])\n",
    "print(np.dot(a,b))"
   ]
  },
  {
   "cell_type": "code",
   "execution_count": 26,
   "metadata": {},
   "outputs": [
    {
     "name": "stdout",
     "output_type": "stream",
     "text": [
      "[[27 77 13 69 78 49 28]\n",
      " [90 80  7 17 21 48 55]\n",
      " [19 93 39  7 19 60 72]\n",
      " [27 99 50 71 45 85 90]\n",
      " [29 87  8 60  6 56 31]]\n",
      "\n",
      "[[27 77 13 78 28]\n",
      " [90 80  7 21 55]\n",
      " [19 93 39 19 72]\n",
      " [27 99 50 45 90]\n",
      " [29 87  8  6 31]]\n"
     ]
    }
   ],
   "source": [
    "# 22.1. Создать случайную матрицу 5x7 целых чисел от 1 до 100 и удалить [3,5] колонки\n",
    "\n",
    "m = np.random.randint(low=1, high=100, size=[5,7])\n",
    "print(m)\n",
    "print()\n",
    "d = [3,5]\n",
    "m = np.delete(arr=m, obj=d, axis=1)\n",
    "print(m)"
   ]
  },
  {
   "cell_type": "code",
   "execution_count": 27,
   "metadata": {},
   "outputs": [
    {
     "name": "stdout",
     "output_type": "stream",
     "text": [
      "[[ 9 18  9 11 14]\n",
      " [14 12  8  3 23]\n",
      " [12  8  3 15 10]\n",
      " [17 12  9 13 18]\n",
      " [19 17 22 -7 11]]\n",
      "\n",
      "[[11 -5 19 15 23]\n",
      " [21 20  8 -5 20]\n",
      " [ 8  3 11  9 14]\n",
      " [ 1 10 21 24 12]\n",
      " [22  1 -4 16 18]]\n"
     ]
    }
   ],
   "source": [
    "# 23. Дан массив, поменять знак у элементов, значения которых между 3 и 8\n",
    "\n",
    "# -----------Вариант 1.-----------\n",
    "m = np.random.randint(low=1, high=25, size=[5,5])\n",
    "m[(m > 3) & (m < 8)] *=-1\n",
    "print(m)\n",
    "print()\n",
    "\n",
    "# -----------Вариант 2.-----------\n",
    "m = np.random.randint(low=1, high=25, size=[5,5])\n",
    "ind = np.where((m > 3) & (m < 8))\n",
    "m[ind] *=-1\n",
    "print(m)"
   ]
  },
  {
   "cell_type": "code",
   "execution_count": 28,
   "metadata": {},
   "outputs": [
    {
     "name": "stdout",
     "output_type": "stream",
     "text": [
      "вариант 1\n",
      "[[0. 1. 2. 3. 4.]\n",
      " [0. 1. 2. 3. 4.]\n",
      " [0. 1. 2. 3. 4.]\n",
      " [0. 1. 2. 3. 4.]\n",
      " [0. 1. 2. 3. 4.]]\n",
      "float64\n",
      "\n",
      "вариант 2\n",
      "[[0. 1. 2. 3. 4.]\n",
      " [0. 1. 2. 3. 4.]\n",
      " [0. 1. 2. 3. 4.]\n",
      " [0. 1. 2. 3. 4.]\n",
      " [0. 1. 2. 3. 4.]]\n",
      "float64\n"
     ]
    }
   ],
   "source": [
    "# 24. Создать матрицу 5x5 со значениями в строках от 0 до 4\n",
    "\n",
    "# -----------Вариант 1.-----------\n",
    "print('вариант 1')\n",
    "m = np.zeros([5,5])\n",
    "m += np.arange(5)\n",
    "print(m)\n",
    "print(m.dtype)\n",
    "print()\n",
    "\n",
    "# -----------Вариант 2.-----------\n",
    "print('вариант 2')\n",
    "m = np.tile(np.arange(5,dtype='float'),[5,1])\n",
    "print(m)\n",
    "print(m.dtype)"
   ]
  },
  {
   "cell_type": "code",
   "execution_count": 29,
   "metadata": {},
   "outputs": [
    {
     "name": "stdout",
     "output_type": "stream",
     "text": [
      "[0. 1. 2. 3. 4. 5. 6. 7. 8. 9.]\n"
     ]
    }
   ],
   "source": [
    "# 25. Есть генератор, сделать с его помощью массив\n",
    "\n",
    "# -----------Вариант 1.-----------\n",
    "# Однако, функция fromiter поддерживает только одномерные массивы (векторы)\n",
    "def generate():\n",
    "    for x in range(10):\n",
    "            yield x\n",
    "        \n",
    "m = np.fromiter(generate(), dtype='float', count=-1)\n",
    "print(m)\n",
    "\n",
    "# -----------Вариант 2.-----------\n",
    "# Сделаем, чтобы была возможность преобразовывать и многомерные массивы"
   ]
  },
  {
   "cell_type": "code",
   "execution_count": 30,
   "metadata": {},
   "outputs": [
    {
     "name": "stdout",
     "output_type": "stream",
     "text": [
      "[[0 1 2 3 4 5 6 7 8 9]\n",
      " [0 1 2 3 4 5 6 7 8 9]\n",
      " [0 1 2 3 4 5 6 7 8 9]\n",
      " [0 1 2 3 4 5 6 7 8 9]\n",
      " [0 1 2 3 4 5 6 7 8 9]\n",
      " [0 1 2 3 4 5 6 7 8 9]\n",
      " [0 1 2 3 4 5 6 7 8 9]\n",
      " [0 1 2 3 4 5 6 7 8 9]\n",
      " [0 1 2 3 4 5 6 7 8 9]\n",
      " [0 1 2 3 4 5 6 7 8 9]]\n",
      "int32\n"
     ]
    }
   ],
   "source": [
    "# 25.1 Создать двумерный список и преобразовать его в NumPy массив (с типом int32)\n",
    "\n",
    "list_arr = [[i for i in range(10)] for j in range(10)]\n",
    "np_arr = np.array(list_arr, dtype='i')\n",
    "print(np_arr)\n",
    "print(np_arr.dtype)"
   ]
  },
  {
   "cell_type": "code",
   "execution_count": 31,
   "metadata": {},
   "outputs": [
    {
     "name": "stdout",
     "output_type": "stream",
     "text": [
      "вариант 1\n",
      "[0.09090909 0.18181818 0.27272727 0.36363636 0.45454545 0.54545455\n",
      " 0.63636364 0.72727273 0.81818182 0.90909091]\n",
      "\n",
      "вариант 2\n",
      "[0.09090909 0.18181818 0.27272727 0.36363636 0.45454545 0.54545455\n",
      " 0.63636364 0.72727273 0.81818182 0.90909091]\n"
     ]
    }
   ],
   "source": [
    "# 26. Создать вектор размера 10 со значениями от 0 до 1, не включая ни то, ни другое\n",
    "\n",
    "# -----------Вариант 1.-----------\n",
    "print('вариант 1')\n",
    "v = np.linspace(start=0, stop=1, num=12)[1:-1]\n",
    "print(v)\n",
    "print()\n",
    "# -----------Вариант 2.-----------\n",
    "print('вариант 2')\n",
    "v = np.linspace(0,1,11, endpoint=False)\n",
    "v = v[1:]\n",
    "print(v)\n"
   ]
  },
  {
   "cell_type": "code",
   "execution_count": 32,
   "metadata": {},
   "outputs": [
    {
     "name": "stdout",
     "output_type": "stream",
     "text": [
      "[0.78899688 0.72851323 0.5888443  0.65905131 0.34115727 0.9954369\n",
      " 0.21031821 0.98678447 0.65176782 0.03273579]\n",
      "\n",
      "[0.03273579 0.21031821 0.34115727 0.5888443  0.65176782 0.65905131\n",
      " 0.72851323 0.78899688 0.98678447 0.9954369 ]\n"
     ]
    }
   ],
   "source": [
    "# 27. Отсортировать вектор\n",
    "\n",
    "v = np.random.random(size=[10])\n",
    "print(v)\n",
    "print()\n",
    "v = np.sort(a=v, axis=0)\n",
    "print(v)\n"
   ]
  },
  {
   "cell_type": "code",
   "execution_count": 33,
   "metadata": {},
   "outputs": [
    {
     "name": "stdout",
     "output_type": "stream",
     "text": [
      "вариант 1\n",
      "True\n",
      "\n",
      "вариант 2\n",
      "True\n"
     ]
    }
   ],
   "source": [
    "# 28. Проверить, одинаковы ли 2 NumPy массива\n",
    "\n",
    "a = np.array([1,2,3,4,5])\n",
    "b = np.array([1,2,3,4,5])\n",
    "print('вариант 1')\n",
    "print(np.array_equal(a,b))\n",
    "print()\n",
    "print('вариант 2')\n",
    "print(np.allclose(a,b))\n"
   ]
  },
  {
   "cell_type": "code",
   "execution_count": 34,
   "metadata": {},
   "outputs": [
    {
     "ename": "ValueError",
     "evalue": "assignment destination is read-only",
     "output_type": "error",
     "traceback": [
      "\u001b[1;31m----------------------------------------------------------------------\u001b[0m",
      "\u001b[1;31mValueError\u001b[0m                           Traceback (most recent call last)",
      "\u001b[1;32m<ipython-input-34-630f7a89ccb8>\u001b[0m in \u001b[0;36m<module>\u001b[1;34m\u001b[0m\n\u001b[0;32m      2\u001b[0m \u001b[0mm\u001b[0m \u001b[1;33m=\u001b[0m \u001b[0mnp\u001b[0m\u001b[1;33m.\u001b[0m\u001b[0mzeros\u001b[0m\u001b[1;33m(\u001b[0m\u001b[1;33m[\u001b[0m\u001b[1;36m5\u001b[0m\u001b[1;33m,\u001b[0m\u001b[1;36m5\u001b[0m\u001b[1;33m]\u001b[0m\u001b[1;33m)\u001b[0m\u001b[1;33m\u001b[0m\u001b[0m\n\u001b[0;32m      3\u001b[0m \u001b[0mm\u001b[0m\u001b[1;33m.\u001b[0m\u001b[0mflags\u001b[0m\u001b[1;33m.\u001b[0m\u001b[0mwriteable\u001b[0m \u001b[1;33m=\u001b[0m \u001b[1;32mFalse\u001b[0m\u001b[1;33m\u001b[0m\u001b[0m\n\u001b[1;32m----> 4\u001b[1;33m \u001b[0mm\u001b[0m\u001b[1;33m[\u001b[0m\u001b[1;36m0\u001b[0m\u001b[1;33m]\u001b[0m \u001b[1;33m=\u001b[0m \u001b[1;36m1\u001b[0m\u001b[1;33m\u001b[0m\u001b[0m\n\u001b[0m",
      "\u001b[1;31mValueError\u001b[0m: assignment destination is read-only"
     ]
    }
   ],
   "source": [
    "# 29. Сделать массив неизменяемым\n",
    "m = np.zeros([5,5])\n",
    "m.flags.writeable = False\n",
    "m[0] = 1"
   ]
  },
  {
   "cell_type": "code",
   "execution_count": 39,
   "metadata": {},
   "outputs": [
    {
     "name": "stdout",
     "output_type": "stream",
     "text": [
      "[0.84057262 1.1858862  0.85384211 0.4835677  0.9483184  0.48253411\n",
      " 0.91249675 0.97199902 1.24021359 1.0598669 ]\n",
      "[1.32238484 0.74507597 0.71794986 0.8921283  0.88677019 1.20353191\n",
      " 1.3526281  0.48420668 0.64204524 1.08083331]\n"
     ]
    }
   ],
   "source": [
    "# 30. Дан массив 10x2 (точки в декартовой системе координат),\n",
    "# нужно преобразовать в полярную\n",
    "\n",
    "m = np.random.random([10,2])\n",
    "x,y = m[:,0], m[:,1]\n",
    "r = np.hypot(x,y)\n",
    "t = np.arctan2(y,x)\n",
    "print(r)\n",
    "print(t)"
   ]
  },
  {
   "cell_type": "code",
   "execution_count": 40,
   "metadata": {},
   "outputs": [
    {
     "name": "stdout",
     "output_type": "stream",
     "text": [
      "вариант 1\n",
      "[[0.73149151 0.74052556 0.13753045 0.82361786 0.83081111]\n",
      " [0.34868862 0.59484552 0.98272704 0.33607777 0.09742237]\n",
      " [0.63538413 0.99487781 0.37680862 0.74635095 0.191507  ]\n",
      " [0.3816958  0.70375338 0.0202022  0.14260356 0.22133955]\n",
      " [0.88759285 0.58147368 0.09661449 0.79912599 0.65523993]]\n",
      "\n",
      "вариант 2\n",
      "[[4 3 5 4 5]\n",
      " [3 6 7 4 8]\n",
      " [5 4 3 7 7]\n",
      " [6 2 5 7 8]\n",
      " [5 5 0 8 8]]\n",
      "\n"
     ]
    }
   ],
   "source": [
    "# 31. Заменить максимальный элемент на 0\n",
    "\n",
    "# -----------Вариант 1.-----------\n",
    "\n",
    "# Однако, если в массиве будут повторяющиеся минимальные или максимальные элементы,\n",
    "# то присваивание 0 производиться не будет\n",
    "print('вариант 1')\n",
    "m = np.random.random([5,5])\n",
    "m.flatten()[m.argmax()] = 0\n",
    "print(m)\n",
    "print()\n",
    "\n",
    "# -----------Вариант 2.-----------\n",
    "\n",
    "# при повторяющихся минимальных элементах замена будет производиться везде (корректный вариант)\n",
    "print('вариант 2')\n",
    "m = np.random.randint(low=1, high=10, size=[5,5])\n",
    "m[np.where(m == m.min())] = 0\n",
    "print(m)\n",
    "print()"
   ]
  },
  {
   "cell_type": "code",
   "execution_count": 41,
   "metadata": {},
   "outputs": [],
   "source": [
    "# 32. Создать структурированный массив с координатами x, y на сетке в квадрате [0,1]x[0,1]\n",
    "m = np.zeros([10,10], [('x', float), ('y', float)])\n",
    "m['x'], m['y'] = np.meshgrid(np.linspace(0,1,10), np.linspace(0,1,10))"
   ]
  },
  {
   "cell_type": "code",
   "execution_count": 42,
   "metadata": {},
   "outputs": [
    {
     "name": "stdout",
     "output_type": "stream",
     "text": [
      "3638.1636371179666\n"
     ]
    }
   ],
   "source": [
    "# 33. Из двух массивов создать матрицу Коши C (Cij = 1/(xi-yj))\n",
    "\n",
    "a = np.arange(8)\n",
    "b = a + 0.5\n",
    "c = 1 / np.subtract.outer(a,b)\n",
    "print(np.linalg.det(c))"
   ]
  },
  {
   "cell_type": "code",
   "execution_count": 43,
   "metadata": {},
   "outputs": [
    {
     "name": "stdout",
     "output_type": "stream",
     "text": [
      "-128\n",
      "127\n",
      "-2147483648\n",
      "2147483647\n",
      "-9223372036854775808\n",
      "9223372036854775807\n",
      "-3.4028235e+38\n",
      "3.4028235e+38\n",
      "1.1920929e-07\n",
      "-1.7976931348623157e+308\n",
      "1.7976931348623157e+308\n",
      "2.220446049250313e-16\n"
     ]
    }
   ],
   "source": [
    "# 34. Найти минимальное и максимальное значение, принимаемое каждым числовым типом numpy\n",
    "\n",
    "for dtype in [np.int8, np.int32, np.int64]:\n",
    "   print(np.iinfo(dtype).min)\n",
    "   print(np.iinfo(dtype).max)\n",
    "for dtype in [np.float32, np.float64]:\n",
    "   print(np.finfo(dtype).min)\n",
    "   print(np.finfo(dtype).max)\n",
    "   print(np.finfo(dtype).eps)\n"
   ]
  },
  {
   "cell_type": "code",
   "execution_count": 44,
   "metadata": {},
   "outputs": [
    {
     "name": "stdout",
     "output_type": "stream",
     "text": [
      "[[0. 0. 0. 0. 0.]\n",
      " [0. 0. 0. 0. 0.]\n",
      " [0. 0. 0. 0. 0.]\n",
      " [0. 0. 0. 0. 0.]\n",
      " [0. 0. 0. 0. 0.]]\n"
     ]
    }
   ],
   "source": [
    "# 35. Напечатать все значения в массиве\n",
    "np.set_printoptions(threshold=np.nan)\n",
    "m = np.zeros((5, 5))\n",
    "print(m)"
   ]
  },
  {
   "cell_type": "code",
   "execution_count": 45,
   "metadata": {},
   "outputs": [
    {
     "name": "stdout",
     "output_type": "stream",
     "text": [
      "[[30 37 84 71 86]\n",
      " [36 89 14 67 92]\n",
      " [52 62 81 75 82]\n",
      " [59  5 89 50 91]\n",
      " [13 18  1 33 40]]\n",
      "\n",
      "вариант 1\n",
      "18\n",
      "\n",
      "вариант 2\n",
      "ближайшее(-ие) к числу approx\n",
      "[18]\n"
     ]
    }
   ],
   "source": [
    "# 36. Найти ближайшее к заданному значению число в заданном массиве\n",
    "\n",
    "v = np.random.randint(low=1, high=100, size=[5,5])\n",
    "print(v)\n",
    "\n",
    "# к данному числу нужно найти ближайшее число в массиве\n",
    "approx = 21\n",
    "\n",
    "# -----------Вариант 1.-----------\n",
    "# (если несколько минимальных элементов, возьмет только один)\n",
    "\n",
    "print('\\nвариант 1')\n",
    "index = (np.abs(v-approx).argmin())\n",
    "print(v.flat[index])\n",
    "\n",
    "# -----------Вариант 2.-----------\n",
    "# (учитывает несколько вариантов ближайших чисел)\n",
    "\n",
    "def find_nearest(a, aim):\n",
    "    \"\"\" функция находит индексы минимальных чисел к числу 'aim' \"\"\"\n",
    "    v = np.abs(a - aim)\n",
    "    idx = np.where(v == v.min())\n",
    "    return idx\n",
    "\n",
    "# может быть так, что несколько чисел окажутся ближайшими к числу\n",
    "# напрмер к числу 10 ближайшие 9 и 11\n",
    "print('\\nвариант 2')\n",
    "a = find_nearest(v, approx)\n",
    "print('ближайшее(-ие) к числу approx')\n",
    "print(np.unique(v[a]))"
   ]
  },
  {
   "cell_type": "code",
   "execution_count": 46,
   "metadata": {},
   "outputs": [
    {
     "name": "stdout",
     "output_type": "stream",
     "text": [
      "[((0., 0.), (0., 0., 0.)) ((0., 0.), (0., 0., 0.))\n",
      " ((0., 0.), (0., 0., 0.)) ((0., 0.), (0., 0., 0.))\n",
      " ((0., 0.), (0., 0., 0.)) ((0., 0.), (0., 0., 0.))\n",
      " ((0., 0.), (0., 0., 0.)) ((0., 0.), (0., 0., 0.))\n",
      " ((0., 0.), (0., 0., 0.)) ((0., 0.), (0., 0., 0.))]\n"
     ]
    }
   ],
   "source": [
    "# 37. Создать структурированный массив, представляющий координату (x,y) и цвет (r,g,b)\n",
    "Z = np.zeros(10, [ ('position', [('x', float, 1),\n",
    "                                 ('y', float, 1)]),\n",
    "                  ('color',    [('r', float, 1),\n",
    "                                ('g', float, 1),\n",
    "                                ('b', float, 1)])])\n",
    "print(Z)"
   ]
  },
  {
   "cell_type": "code",
   "execution_count": 47,
   "metadata": {},
   "outputs": [
    {
     "name": "stdout",
     "output_type": "stream",
     "text": [
      "массив:\n",
      "[[53 97]\n",
      " [36 20]\n",
      " [18 53]\n",
      " [37  4]\n",
      " [46 92]]\n",
      "\n",
      "вариант 1\n",
      "[[ 0.         78.85429601 56.22277119 94.36630755  8.60232527]\n",
      " [78.85429601  0.         37.58989226 16.03121954 72.69112738]\n",
      " [56.22277119 37.58989226  0.         52.55473337 48.01041554]\n",
      " [94.36630755 16.03121954 52.55473337  0.         88.45903006]\n",
      " [ 8.60232527 72.69112738 48.01041554 88.45903006  0.        ]]\n",
      "\n",
      "вариант 2\n",
      "[[ 0.         78.85429601 56.22277119 94.36630755  8.60232527]\n",
      " [78.85429601  0.         37.58989226 16.03121954 72.69112738]\n",
      " [56.22277119 37.58989226  0.         52.55473337 48.01041554]\n",
      " [94.36630755 16.03121954 52.55473337  0.         88.45903006]\n",
      " [ 8.60232527 72.69112738 48.01041554 88.45903006  0.        ]]\n"
     ]
    }
   ],
   "source": [
    "# 38. Дан массив (5,2) координат, найти расстояние от каждой до каждой точки\n",
    "\n",
    "from scipy.spatial import distance_matrix, distance\n",
    "\n",
    "m = np.random.randint(low=0, high=100, size=[5,2])\n",
    "print('массив:')\n",
    "print(m)\n",
    "\n",
    "print()\n",
    "print('вариант 1')\n",
    "dst = distance_matrix(m, m)\n",
    "print(dst)\n",
    "\n",
    "print()\n",
    "print('вариант 2')\n",
    "dst2 = distance.cdist(m,m)\n",
    "print(dst2)\n"
   ]
  },
  {
   "cell_type": "code",
   "execution_count": 48,
   "metadata": {},
   "outputs": [
    {
     "name": "stdout",
     "output_type": "stream",
     "text": [
      "[[75. 23.  9. 72. 40.]\n",
      " [14. 73. 74. 74. 87.]\n",
      " [56. 55. 81. 30. 42.]\n",
      " [80. 74. 83. 15. 52.]\n",
      " [33. 59. 93. 49. 78.]]\n"
     ]
    }
   ],
   "source": [
    "# 39. Преобразовать массив из int в float\n",
    "\n",
    "# создание массива целочисленных значений\n",
    "m = np.random.randint(low=1, high=100, size=[5,5])\n",
    "\n",
    "# преобразование в float\n",
    "m = m.astype('f', copy=False)\n",
    "\n",
    "print(m)"
   ]
  },
  {
   "cell_type": "code",
   "execution_count": 49,
   "metadata": {},
   "outputs": [
    {
     "name": "stdout",
     "output_type": "stream",
     "text": [
      "[[ 1.  2.  3.  4.  5.]\n",
      " [ 6. nan nan  7.  8.]\n",
      " [nan nan  9. 10. 11.]]\n"
     ]
    }
   ],
   "source": [
    "# 40. Файл лежит в папке \"file/40/file.txt\", как прочитать файл?\n",
    "v = np.genfromtxt('files/40/file.txt', delimiter=',')\n",
    "print(v)"
   ]
  },
  {
   "cell_type": "code",
   "execution_count": 50,
   "metadata": {},
   "outputs": [
    {
     "name": "stdout",
     "output_type": "stream",
     "text": [
      "(0, 0) 1\n",
      "(0, 1) 2\n",
      "(1, 0) 3\n",
      "(1, 1) 4\n"
     ]
    }
   ],
   "source": [
    "# 41. Каков эквивалент функции enumerate для numpy массивов?\n",
    "\n",
    "a = np.array([[1, 2], [3, 4]])\n",
    "for index, x in np.ndenumerate(a):\n",
    "    print(index, x)"
   ]
  },
  {
   "cell_type": "code",
   "execution_count": 58,
   "metadata": {},
   "outputs": [
    {
     "data": {
      "image/png": "[encoded data removed]",
      "text/plain": [
       "<Figure size 432x288 with 1 Axes>"
      ]
     },
     "metadata": {},
     "output_type": "display_data"
    },
    {
     "data": {
      "image/png": "[encoded data removed]",
      "text/plain": [
       "<Figure size 432x288 with 1 Axes>"
      ]
     },
     "metadata": {},
     "output_type": "display_data"
    }
   ],
   "source": [
    "# 42. Сформировать матрицу по Гауссу\n",
    "\n",
    "from scipy.stats import norm\n",
    "\n",
    "x = np.linspace(-3,3,1000)\n",
    "y = norm.pdf(x, loc=0, scale=1)\n",
    "\n",
    "# формируем матрицу по Гауссу\n",
    "m = np.column_stack((x,y))\n",
    "\n",
    "plt.plot(m[:,0],m[:,1]);\n",
    "plt.title('Распределение по Гауссу');\n",
    "plt.show()\n",
    "# -----------дополнительно.-----------\n",
    "\n",
    "# формируем случайную матрицу, близкую к нормальному распределению\n",
    "m = np.random.randn(1000)\n",
    "\n",
    "sns.set()\n",
    "\n",
    "plt.title('Распределение по Гауссу');\n",
    "plt.hist(m,20,color='grey');\n",
    "plt.show()"
   ]
  },
  {
   "cell_type": "code",
   "execution_count": 52,
   "metadata": {},
   "outputs": [
    {
     "name": "stdout",
     "output_type": "stream",
     "text": [
      "------вариант 1------\n",
      "\n",
      "массив:\n",
      "[[72 37 47 84 70]\n",
      " [ 5 72 40 29 20]\n",
      " [14 72 94 44 70]\n",
      " [57 13 15 81 90]\n",
      " [61 66 17 46 78]]\n",
      "\n",
      "с заменой\n",
      "[[72 37 47  0 70]\n",
      " [ 5  0 40 29 20]\n",
      " [14 72  0  0 70]\n",
      " [57 13 15 81 90]\n",
      " [61 66 17  0 78]]\n",
      "\n",
      "------вариант 2------\n",
      "\n",
      "массив:\n",
      "[[82 82 54 13 73]\n",
      " [77 65 45  3  2]\n",
      " [23 28 15 36 59]\n",
      " [79  8 37 26 89]\n",
      " [91 79 75  7 27]]\n",
      "\n",
      "случайные элементы:\n",
      "[ 0 15 19  7 14]\n",
      "\n",
      "массив с заменой случайных элементов\n",
      "[[ 0 82 54 13 73]\n",
      " [77 65  0  3  2]\n",
      " [23 28 15 36  0]\n",
      " [ 0  8 37 26  0]\n",
      " [91 79 75  7 27]]\n"
     ]
    }
   ],
   "source": [
    "# 43. Случайно расположить (заменить) p элементов в 2D массив\n",
    "\n",
    "# кол-во заменяемых элементов\n",
    "p = 5\n",
    "\n",
    "# -----------Вариант 1.-----------\n",
    "\n",
    "print('------вариант 1------')\n",
    "m = np.random.randint(low=1, high=100, size=[5,5])\n",
    "print('\\nмассив:')\n",
    "print(m)\n",
    "print('\\nс заменой')\n",
    "np.put(m, np.random.choice(range(m.size), p, replace=False), 0)\n",
    "print(m)\n",
    "print()\n",
    "\n",
    "# -----------Вариант 2.-----------\n",
    "\n",
    "print('------вариант 2------')\n",
    "m2 = np.random.randint(low=1, high=100, size=[5,5])\n",
    "print('\\nмассив:')\n",
    "print(m2)\n",
    "\n",
    "# m.size ---> вычисляет кол-во элементов в массиве (аналог numel в MATLAB)\n",
    "# np.random.permutation ---> создает вектор в случайном порядке\n",
    "\n",
    "idx = np.random.permutation(m2.size)[:np.abs(p)]\n",
    "print('\\nслучайные элементы:')\n",
    "print(idx)\n",
    "\n",
    "print('\\nмассив с заменой случайных элементов')\n",
    "m2.flat[idx] = 0\n",
    "print(m2)"
   ]
  },
  {
   "cell_type": "code",
   "execution_count": 53,
   "metadata": {},
   "outputs": [
    {
     "name": "stdout",
     "output_type": "stream",
     "text": [
      "массив:\n",
      "[[65 54 38]\n",
      " [32 19 11]\n",
      " [29 33 70]]\n",
      "\n",
      "средние значения каждой строки матрицы\n",
      "[52.33333333 20.66666667 44.        ]\n",
      "\n",
      "вычитание из матрицы средних значений\n",
      "[[ 12.66666667   1.66666667 -14.33333333]\n",
      " [ 11.33333333  -1.66666667  -9.66666667]\n",
      " [-15.         -11.          26.        ]]\n"
     ]
    }
   ],
   "source": [
    "# 44. Отнять среднее из каждой строки в матрице\n",
    "\n",
    "m = np.random.randint(low=1, high=100, size=[3,3])\n",
    "print('массив:')\n",
    "print(m)\n",
    "print()\n",
    "print('средние значения каждой строки матрицы')\n",
    "print(m.mean(axis=1))\n",
    "\n",
    "# keepdims ---> сохранить размерность исходного массива\n",
    "\n",
    "print()\n",
    "print('вычитание из матрицы средних значений')\n",
    "m = m - m.mean(axis=1, keepdims=True)\n",
    "\n",
    "print(m)"
   ]
  },
  {
   "cell_type": "code",
   "execution_count": 54,
   "metadata": {},
   "outputs": [
    {
     "name": "stdout",
     "output_type": "stream",
     "text": [
      "массив:\n",
      "[[90 29 81 29  7]\n",
      " [28 84 38 45 41]\n",
      " [92 31 36 51 83]\n",
      " [95 28 49 54 21]\n",
      " [65 66 95 89 58]]\n",
      "\n",
      "сортированный массив по n-ому столбцу\n",
      "[[92 31 36 51 83]\n",
      " [28 84 38 45 41]\n",
      " [95 28 49 54 21]\n",
      " [90 29 81 29  7]\n",
      " [65 66 95 89 58]]\n",
      "\n"
     ]
    }
   ],
   "source": [
    "# 45. Отсортировать матрицу по n-ому столбцу\n",
    "\n",
    "n = 2\n",
    "\n",
    "m = np.random.randint(low=1, high=100, size=[5,5])\n",
    "print('массив:')\n",
    "print(m)\n",
    "print()\n",
    "print('сортированный массив по n-ому столбцу')\n",
    "print(m[m[:,n].argsort()])\n",
    "print()"
   ]
  },
  {
   "cell_type": "code",
   "execution_count": 55,
   "metadata": {},
   "outputs": [
    {
     "name": "stdout",
     "output_type": "stream",
     "text": [
      "\n",
      "------вариант 1------\n",
      "\n",
      "[[0 1 1 1 0 1 0 1 0 1]\n",
      " [0 0 1 1 0 1 1 0 1 1]]\n",
      "\n",
      "True\n",
      "\n",
      "------вариант 2------\n",
      "\n",
      "Имеются нулевые столбцы: [0 4]\n",
      "\n",
      "[[0 1 1 1 0 1 0 1 0 1]\n",
      " [0 0 1 1 0 1 1 0 1 1]]\n"
     ]
    }
   ],
   "source": [
    "# 46. Определить, есть ли в 2D массиве нулевые столбцы\n",
    "\n",
    "m = np.random.randint(low=0, high=2, size=[2,10])\n",
    "\n",
    "# -----------Вариант 1.-----------\n",
    "# (возвращает булево значение)\n",
    "\n",
    "print('\\n------вариант 1------')\n",
    "print()\n",
    "print(m)\n",
    "print()\n",
    "print((~m.any(axis=0)).any())\n",
    "\n",
    "# -----------Вариант 2.-----------\n",
    "# (возвращает индексы колонок, решение через сумму)\n",
    "print('\\n------вариант 2------')\n",
    "print()\n",
    "null_columns = np.where(np.sum(a=m, axis=0) == 0)\n",
    "\n",
    "if null_columns[0].size > 0:\n",
    "    print('Имеются нулевые столбцы:', null_columns[0])\n",
    "else:\n",
    "    print('Нулевых столбцов нет')\n",
    "    \n",
    "print()    \n",
    "print(m)\n"
   ]
  },
  {
   "cell_type": "code",
   "execution_count": 56,
   "metadata": {},
   "outputs": [
    {
     "name": "stdout",
     "output_type": "stream",
     "text": [
      "[[1. 1. 2. 1. 2.]\n",
      " [3. 2. 2. 3. 1.]\n",
      " [2. 2. 2. 1. 2.]\n",
      " [1. 1. 3. 1. 1.]\n",
      " [2. 2. 2. 3. 2.]]\n"
     ]
    }
   ],
   "source": [
    "# 47. Дан массив, добавить 1 к каждому элементу с индексом, заданным в другом массиве\n",
    "# осторожно с повторами (их необходимо суммировать)\n",
    "\n",
    "# функция bincount ---> мощная вещь (считает кол-во вхождений в массив)\n",
    "# нужна корректная работа как с одномерными так и с многомерными массивами\n",
    "# если в матрице 'a' имеются повторы, то необходимо эти повторы суммировать\n",
    "\n",
    "b = np.ones([5,5])\n",
    "sh = b.shape\n",
    "\n",
    "b = b.flatten()\n",
    "a = np.random.randint(low=0, high=b.size, size=20)\n",
    "\n",
    "b += np.bincount(a, minlength=b.size)\n",
    "b = b.reshape(sh)\n",
    "\n",
    "print(b)"
   ]
  },
  {
   "cell_type": "code",
   "execution_count": 67,
   "metadata": {},
   "outputs": [
    {
     "name": "stdout",
     "output_type": "stream",
     "text": [
      "[2. 2. 2. 2. 2.]\n"
     ]
    }
   ],
   "source": [
    "# 47.1 Дан массив, добавить 1 к каждому элементу с индексом, заданным в другом массиве\n",
    "# осторожно с повторами (суммировать не нужно)\n",
    "\n",
    "b = np.ones(5)\n",
    "\n",
    "a = np.random.randint(low=0, high=b.size, size=[10])\n",
    "\n",
    "b[a] += 1\n",
    "\n",
    "print(b)\n"
   ]
  },
  {
   "cell_type": "code",
   "execution_count": 70,
   "metadata": {},
   "outputs": [
    {
     "name": "stdout",
     "output_type": "stream",
     "text": [
      "[0 1]\n"
     ]
    }
   ],
   "source": [
    "# 48. Дан массив (w,h,3) (картинка) dtype=ubyte, посчитать количество различных цветов\n",
    "\n",
    "w,h = 16,16\n",
    "I = np.random.randint(0, 2, (h,w,3)).astype(np.ubyte)\n",
    "F = I[...,0] * 256 * 256 + I[...,1] * 256 + I[...,2]\n",
    "n = len(np.unique(F))\n",
    "print(np.unique(I))"
   ]
  },
  {
   "cell_type": "code",
   "execution_count": 71,
   "metadata": {},
   "outputs": [
    {
     "name": "stdout",
     "output_type": "stream",
     "text": [
      "[[50 41 71 58]\n",
      " [50 49 51 50]\n",
      " [57 50 67 44]]\n"
     ]
    }
   ],
   "source": [
    "# 49. Дан четырехмерный массив, посчитать сумму по последним двум осям\n",
    "\n",
    "A = np.random.randint(0,10, (3,4,3,4))\n",
    "sum = A.reshape(A.shape[:-2] + (-1,)).sum(axis=-1)\n",
    "print(sum)"
   ]
  },
  {
   "cell_type": "code",
   "execution_count": 80,
   "metadata": {},
   "outputs": [
    {
     "name": "stdout",
     "output_type": "stream",
     "text": [
      "вариант 1\n",
      "[19 50]\n",
      "\n",
      "вариант 2\n",
      "[19 50]\n"
     ]
    }
   ],
   "source": [
    "# 50. Найти диагональные элементы произведения матриц\n",
    "\n",
    "a = np.array([[1,2], [3,4]])\n",
    "b = np.array([[5,6], [7,8]])\n",
    "\n",
    "# -----------Вариант 1.-----------\n",
    "# (медленный вариант)\n",
    "print('вариант 1')\n",
    "print(np.diag(np.dot(a, b)))\n",
    "print()\n",
    "\n",
    "# -----------Вариант 2.-----------\n",
    "# (быстрый вариант)\n",
    "print('вариант 2')\n",
    "print(np.sum(a*b.T, axis=1))\n",
    "\n"
   ]
  },
  {
   "cell_type": "code",
   "execution_count": 82,
   "metadata": {},
   "outputs": [
    {
     "name": "stdout",
     "output_type": "stream",
     "text": [
      "[1 2 3 4 5]\n",
      "[0 0 0]\n"
     ]
    }
   ],
   "source": [
    "# 51. Дан вектор [1, 2, 3, 4, 5], построить новый вектор с тремя нулями между каждым значением\n",
    "\n",
    "v = np.arange(start=1, stop=6)\n",
    "\n",
    "v_paste = np.array([0, 0, 0])\n",
    "\n",
    "print(v)\n",
    "print(v_paste)\n"
   ]
  },
  {
   "cell_type": "code",
   "execution_count": null,
   "metadata": {},
   "outputs": [],
   "source": []
  },
  {
   "cell_type": "code",
   "execution_count": null,
   "metadata": {},
   "outputs": [],
   "source": []
  },
  {
   "cell_type": "code",
   "execution_count": null,
   "metadata": {},
   "outputs": [],
   "source": []
  }
 ],
 "metadata": {
  "kernelspec": {
   "display_name": "Python 3",
   "language": "python",
   "name": "python3"
  },
  "language_info": {
   "codemirror_mode": {
    "name": "ipython",
    "version": 3
   },
   "file_extension": ".py",
   "mimetype": "text/x-python",
   "name": "python",
   "nbconvert_exporter": "python",
   "pygments_lexer": "ipython3",
   "version": "3.6.3"
  }
 },
 "nbformat": 4,
 "nbformat_minor": 2
}
