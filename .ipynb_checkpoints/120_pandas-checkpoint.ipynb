{
 "cells": [
  {
   "cell_type": "code",
   "execution_count": 79,
   "metadata": {},
   "outputs": [
    {
     "name": "stdout",
     "output_type": "stream",
     "text": [
      "0.23.0\n",
      "1.14.2\n",
      "{'system': {'commit': None, 'python': '3.6.5.final.0', 'python-bits': 32, 'OS': 'Windows', 'OS-release': '10', 'machine': 'AMD64', 'processor': 'Intel64 Family 6 Model 158 Stepping 9, GenuineIntel', 'byteorder': 'little', 'LC_ALL': 'None', 'LANG': 'None', 'LOCALE': 'None.None'}, 'dependencies': {'pandas': '0.23.0', 'pytest': None, 'pip': '18.1', 'setuptools': '39.2.0', 'Cython': None, 'numpy': '1.14.2', 'scipy': '1.0.1', 'pyarrow': None, 'xarray': None, 'IPython': '6.3.1', 'sphinx': None, 'patsy': None, 'dateutil': '2.7.2', 'pytz': '2018.4', 'blosc': None, 'bottleneck': None, 'tables': None, 'numexpr': None, 'feather': None, 'matplotlib': '2.2.2', 'openpyxl': None, 'xlrd': '1.1.0', 'xlwt': None, 'xlsxwriter': '1.0.5', 'lxml': None, 'bs4': None, 'html5lib': '1.0.1', 'sqlalchemy': '1.2.11', 'pymysql': '0.9.2', 'psycopg2': None, 'jinja2': '2.10', 's3fs': None, 'fastparquet': None, 'pandas_gbq': None, 'pandas_datareader': None}}\n",
      "None\n"
     ]
    }
   ],
   "source": [
    "# 1. Импортировать модуль и проверить версию\n",
    "\n",
    "import pandas as pd\n",
    "import numpy as np\n",
    "\n",
    "print(pd.__version__)\n",
    "print(np.__version__)\n",
    "print(pd.show_versions(as_json=True))"
   ]
  },
  {
   "cell_type": "code",
   "execution_count": 36,
   "metadata": {},
   "outputs": [
    {
     "name": "stdout",
     "output_type": "stream",
     "text": [
      "0    a\n",
      "1    b\n",
      "2    c\n",
      "3    d\n",
      "4    e\n",
      "dtype: object\n",
      "0    0\n",
      "1    1\n",
      "2    2\n",
      "3    3\n",
      "4    4\n",
      "dtype: int32\n",
      "a    0\n",
      "b    1\n",
      "c    2\n",
      "d    3\n",
      "e    4\n",
      "dtype: int64\n"
     ]
    }
   ],
   "source": [
    "# 2. Создать объект pandas Series из листа, объекта NumPy, и словаря\n",
    "\n",
    "src_list = list('abcde')\n",
    "src_arr = np.arange(5)\n",
    "src_dict = dict(zip(src_list, src_arr))\n",
    "\n",
    "s1 = pd.Series(src_list)\n",
    "s2 = pd.Series(src_arr)\n",
    "s3 = pd.Series(src_dict)\n",
    "\n",
    "print(s1)\n",
    "print(s2)\n",
    "print(s3)"
   ]
  },
  {
   "cell_type": "code",
   "execution_count": 37,
   "metadata": {},
   "outputs": [
    {
     "name": "stdout",
     "output_type": "stream",
     "text": [
      "       0\n",
      "a    one\n",
      "b    two\n",
      "c  three\n"
     ]
    }
   ],
   "source": [
    "# 3. Преобразовать объект Seris в DataFrame\n",
    "\n",
    "# создаем объект Series\n",
    "s = pd.Series({'a': 'one', 'b': 'two', 'c': 'three'})\n",
    "\n",
    "# преобразование в DataFrame\n",
    "s = s.to_frame()\n",
    "\n",
    "print(s)\n"
   ]
  },
  {
   "cell_type": "code",
   "execution_count": 44,
   "metadata": {},
   "outputs": [
    {
     "name": "stdout",
     "output_type": "stream",
     "text": [
      "вариант 1\n",
      "   0  1\n",
      "0  a  0\n",
      "1  b  1\n",
      "2  c  2\n",
      "3  d  3\n",
      "4  e  4\n",
      "5  f  5\n",
      "6  g  6\n",
      "7  h  7\n",
      "8  i  8\n",
      "9  j  9\n",
      "вариант 2\n",
      "  col1  col2\n",
      "0    a     0\n",
      "1    b     1\n",
      "2    c     2\n",
      "3    d     3\n",
      "4    e     4\n",
      "5    f     5\n",
      "6    g     6\n",
      "7    h     7\n",
      "8    i     8\n",
      "9    j     9\n"
     ]
    }
   ],
   "source": [
    "# 4. Как объединить несколько объектов Series в Dataframe\n",
    "\n",
    "s1 = pd.Series(list('abcdefghij'))\n",
    "s2 = pd.Series(np.arange(10))\n",
    "\n",
    "# Вариант 1\n",
    "df1 = pd.concat([s1, s2], axis=1)\n",
    "print('вариант 1')\n",
    "print(df1)\n",
    "\n",
    "# Вариант 2\n",
    "print('вариант 2')\n",
    "df2 = pd.DataFrame({'col1': s1, 'col2': s2})\n",
    "print(df2)"
   ]
  },
  {
   "cell_type": "code",
   "execution_count": 48,
   "metadata": {},
   "outputs": [
    {
     "name": "stdout",
     "output_type": "stream",
     "text": [
      "a    1\n",
      "b    2\n",
      "c    3\n",
      "Name: my_name, dtype: int64\n"
     ]
    }
   ],
   "source": [
    "# 5. Присвоить имя индексу объекта Series\n",
    "\n",
    "s = pd.Series({'a': 1, 'b': 2, 'c': 3})\n",
    "\n",
    "s.name = 'my_name'\n",
    "\n",
    "print(s)"
   ]
  },
  {
   "cell_type": "code",
   "execution_count": 80,
   "metadata": {},
   "outputs": [
    {
     "name": "stdout",
     "output_type": "stream",
     "text": [
      "0    1\n",
      "1    2\n",
      "2    3\n",
      "dtype: int64\n"
     ]
    }
   ],
   "source": [
    "# 6. Получить элементы объекта Series A, которых нет в объекте Series B\n",
    "\n",
    "s1 = pd.Series([1, 2, 3, 4, 5])\n",
    "s2 = pd.Series([4, 5, 6, 7, 8])\n",
    "\n",
    "# возвращает вместе с индексами\n",
    "ans = s1[~s1.isin(s2)]\n",
    "\n",
    "# возвразает значения\n",
    "ans2 = np.setdiff1d(s1, s2, assume_unique=False)\n",
    "print(ans)"
   ]
  },
  {
   "cell_type": "code",
   "execution_count": 78,
   "metadata": {},
   "outputs": [
    {
     "ename": "TypeError",
     "evalue": "intersect1d() got an unexpected keyword argument 'return_indices'",
     "output_type": "error",
     "traceback": [
      "\u001b[1;31m---------------------------------------------------------------\u001b[0m",
      "\u001b[1;31mTypeError\u001b[0m                     Traceback (most recent call last)",
      "\u001b[1;32m<ipython-input-78-bc5947964913>\u001b[0m in \u001b[0;36m<module>\u001b[1;34m()\u001b[0m\n\u001b[0;32m      8\u001b[0m \u001b[0ms_union\u001b[0m \u001b[1;33m=\u001b[0m \u001b[0mpd\u001b[0m\u001b[1;33m.\u001b[0m\u001b[0mSeries\u001b[0m\u001b[1;33m(\u001b[0m\u001b[0mnp\u001b[0m\u001b[1;33m.\u001b[0m\u001b[0munion1d\u001b[0m\u001b[1;33m(\u001b[0m\u001b[0ms1\u001b[0m\u001b[1;33m,\u001b[0m \u001b[0ms2\u001b[0m\u001b[1;33m)\u001b[0m\u001b[1;33m)\u001b[0m\u001b[1;33m\u001b[0m\u001b[0m\n\u001b[0;32m      9\u001b[0m \u001b[1;31m#\u001b[0m\u001b[1;33m\u001b[0m\u001b[1;33m\u001b[0m\u001b[0m\n\u001b[1;32m---> 10\u001b[1;33m \u001b[0ms_intersect\u001b[0m \u001b[1;33m=\u001b[0m \u001b[0mpd\u001b[0m\u001b[1;33m.\u001b[0m\u001b[0mSeries\u001b[0m\u001b[1;33m(\u001b[0m\u001b[0mnp\u001b[0m\u001b[1;33m.\u001b[0m\u001b[0mintersect1d\u001b[0m\u001b[1;33m(\u001b[0m\u001b[0ms1\u001b[0m\u001b[1;33m,\u001b[0m \u001b[0ms2\u001b[0m\u001b[1;33m,\u001b[0m \u001b[0mreturn_indices\u001b[0m\u001b[1;33m=\u001b[0m\u001b[1;32mTrue\u001b[0m\u001b[1;33m)\u001b[0m\u001b[1;33m)\u001b[0m\u001b[1;33m\u001b[0m\u001b[0m\n\u001b[0m\u001b[0;32m     11\u001b[0m \u001b[0mans\u001b[0m \u001b[1;33m=\u001b[0m \u001b[0ms_union\u001b[0m\u001b[1;33m[\u001b[0m\u001b[1;33m~\u001b[0m\u001b[0ms_union\u001b[0m\u001b[1;33m.\u001b[0m\u001b[0misin\u001b[0m\u001b[1;33m(\u001b[0m\u001b[0ms_intersect\u001b[0m\u001b[1;33m)\u001b[0m\u001b[1;33m]\u001b[0m\u001b[1;33m\u001b[0m\u001b[0m\n\u001b[0;32m     12\u001b[0m \u001b[1;33m\u001b[0m\u001b[0m\n",
      "\u001b[1;31mTypeError\u001b[0m: intersect1d() got an unexpected keyword argument 'return_indices'"
     ]
    }
   ],
   "source": [
    "# 7. Получить не пересекающиеся элементы в двух объектах Series\n",
    "\n",
    "s1 = pd.Series([1, 2, 3, 4, 5])\n",
    "s2 = pd.Series([4, 5, 6, 7, 8])\n",
    "\n",
    "# возвращает вместе с индексами\n",
    "# получаем объединенный Series без повтороений\n",
    "s_union = pd.Series(np.union1d(s1, s2))\n",
    "# \n",
    "s_intersect = pd.Series(np.intersect1d(s1, s2))\n",
    "ans = s_union[~s_union.isin(s_intersect)]\n",
    "\n",
    "# возвразает значения\n",
    "ans2 = np.setxor1d(s1, s2, assume_unique=False)\n",
    "\n",
    "print(s_intersect)"
   ]
  },
  {
   "cell_type": "code",
   "execution_count": null,
   "metadata": {},
   "outputs": [],
   "source": []
  }
 ],
 "metadata": {
  "kernelspec": {
   "display_name": "Python 3",
   "language": "python",
   "name": "python3"
  },
  "language_info": {
   "codemirror_mode": {
    "name": "ipython",
    "version": 3
   },
   "file_extension": ".py",
   "mimetype": "text/x-python",
   "name": "python",
   "nbconvert_exporter": "python",
   "pygments_lexer": "ipython3",
   "version": "3.6.5"
  }
 },
 "nbformat": 4,
 "nbformat_minor": 2
}
